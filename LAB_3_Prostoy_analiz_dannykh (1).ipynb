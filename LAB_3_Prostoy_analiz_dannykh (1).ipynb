{
  "cells": [
    {
      "cell_type": "code",
      "execution_count": null,
      "metadata": {
        "id": "7buKKVdTYnBI"
      },
      "outputs": [],
      "source": [
        "import pandas as pd\n",
        "import numpy as np\n",
        "import matplotlib.pyplot as plt\n",
        "import seaborn as sns"
      ]
    },
    {
      "cell_type": "markdown",
      "metadata": {
        "id": "QMCuolWtYnBJ"
      },
      "source": [
        "### 1.Загрузите данные в ноутбук"
      ]
    },
    {
      "cell_type": "code",
      "execution_count": null,
      "metadata": {
        "id": "GaJ5yPZFYnBK"
      },
      "outputs": [],
      "source": [
        "df_1 = pd.read_excel('Вариант 1.xlsx', header=None) "
      ]
    },
    {
      "cell_type": "code",
      "execution_count": null,
      "metadata": {
        "id": "MxU9S8QgYnBK",
        "outputId": "762f7d8c-768c-4206-ca26-b9dc513755ab"
      },
      "outputs": [
        {
          "name": "stdout",
          "output_type": "stream",
          "text": [
            "01-Русский язык\n"
          ]
        }
      ],
      "source": [
        "print(df_1.iloc[0][0])"
      ]
    },
    {
      "cell_type": "code",
      "execution_count": null,
      "metadata": {
        "id": "a61wv6DcYnBL"
      },
      "outputs": [],
      "source": [
        "df_1.columns = df_1.iloc[2]"
      ]
    },
    {
      "cell_type": "code",
      "execution_count": null,
      "metadata": {
        "id": "B4Ya_MKCYnBL"
      },
      "outputs": [],
      "source": [
        "df_1 = df_1.iloc[3:]"
      ]
    },
    {
      "cell_type": "code",
      "execution_count": null,
      "metadata": {
        "id": "2Z3LenMRYnBM",
        "outputId": "8e9e0450-da47-4731-d99d-a78903d67292"
      },
      "outputs": [
        {
          "data": {
            "text/html": [
              "<div>\n",
              "<style scoped>\n",
              "    .dataframe tbody tr th:only-of-type {\n",
              "        vertical-align: middle;\n",
              "    }\n",
              "\n",
              "    .dataframe tbody tr th {\n",
              "        vertical-align: top;\n",
              "    }\n",
              "\n",
              "    .dataframe thead th {\n",
              "        text-align: right;\n",
              "    }\n",
              "</style>\n",
              "<table border=\"1\" class=\"dataframe\">\n",
              "  <thead>\n",
              "    <tr style=\"text-align: right;\">\n",
              "      <th>2</th>\n",
              "      <th>№</th>\n",
              "      <th>№ школы</th>\n",
              "      <th>Класс</th>\n",
              "      <th>Пол</th>\n",
              "      <th>Номер варианта</th>\n",
              "      <th>Задания с кратким ответом</th>\n",
              "      <th>Задания с развёрнутым ответом</th>\n",
              "      <th>Устная часть</th>\n",
              "      <th>Первичный балл</th>\n",
              "      <th>Балл</th>\n",
              "      <th>Минимальный балл</th>\n",
              "    </tr>\n",
              "  </thead>\n",
              "  <tbody>\n",
              "    <tr>\n",
              "      <th>3</th>\n",
              "      <td>1</td>\n",
              "      <td>117</td>\n",
              "      <td>11</td>\n",
              "      <td>М</td>\n",
              "      <td>341</td>\n",
              "      <td>1+++--1+-++---0---------0</td>\n",
              "      <td>0(1)0(3)0(1)0(3)0(2)0(2)0(3)0(3)0(2)0(2)0(1)0(1)</td>\n",
              "      <td>NaN</td>\n",
              "      <td>8</td>\n",
              "      <td>20</td>\n",
              "      <td>24</td>\n",
              "    </tr>\n",
              "    <tr>\n",
              "      <th>4</th>\n",
              "      <td>2</td>\n",
              "      <td>148</td>\n",
              "      <td>12А</td>\n",
              "      <td>М</td>\n",
              "      <td>338</td>\n",
              "      <td>1+---+0--+---+0----++-+-0</td>\n",
              "      <td>0(1)0(3)0(1)0(3)0(2)0(2)0(3)0(3)0(2)0(2)0(1)0(1)</td>\n",
              "      <td>NaN</td>\n",
              "      <td>8</td>\n",
              "      <td>20</td>\n",
              "      <td>24</td>\n",
              "    </tr>\n",
              "    <tr>\n",
              "      <th>5</th>\n",
              "      <td>3</td>\n",
              "      <td>152</td>\n",
              "      <td>13</td>\n",
              "      <td>Ж</td>\n",
              "      <td>104</td>\n",
              "      <td>2-----0--+----1---------1</td>\n",
              "      <td>0(1)0(3)0(1)0(3)0(2)0(2)0(3)1(3)0(2)1(2)1(1)1(1)</td>\n",
              "      <td>NaN</td>\n",
              "      <td>9</td>\n",
              "      <td>22</td>\n",
              "      <td>24</td>\n",
              "    </tr>\n",
              "    <tr>\n",
              "      <th>6</th>\n",
              "      <td>4</td>\n",
              "      <td>152</td>\n",
              "      <td>13</td>\n",
              "      <td>М</td>\n",
              "      <td>104</td>\n",
              "      <td>1+--+-0++-----2----++---0</td>\n",
              "      <td>0(1)0(3)0(1)0(3)0(2)0(2)0(3)0(3)0(2)0(2)0(1)0(1)</td>\n",
              "      <td>NaN</td>\n",
              "      <td>9</td>\n",
              "      <td>22</td>\n",
              "      <td>24</td>\n",
              "    </tr>\n",
              "    <tr>\n",
              "      <th>7</th>\n",
              "      <td>5</td>\n",
              "      <td>132</td>\n",
              "      <td>11</td>\n",
              "      <td>М</td>\n",
              "      <td>337</td>\n",
              "      <td>1++---0-+++---1----+----2</td>\n",
              "      <td>0(1)0(3)0(1)0(3)0(2)0(2)0(3)0(3)0(2)0(2)0(1)0(1)</td>\n",
              "      <td>NaN</td>\n",
              "      <td>10</td>\n",
              "      <td>24</td>\n",
              "      <td>24</td>\n",
              "    </tr>\n",
              "  </tbody>\n",
              "</table>\n",
              "</div>"
            ],
            "text/plain": [
              "2  № № школы Класс Пол Номер варианта  Задания с кратким ответом  \\\n",
              "3  1     117    11   М            341  1+++--1+-++---0---------0   \n",
              "4  2     148   12А   М            338  1+---+0--+---+0----++-+-0   \n",
              "5  3     152    13   Ж            104  2-----0--+----1---------1   \n",
              "6  4     152    13   М            104  1+--+-0++-----2----++---0   \n",
              "7  5     132    11   М            337  1++---0-+++---1----+----2   \n",
              "\n",
              "2                     Задания с развёрнутым ответом Устная часть  \\\n",
              "3  0(1)0(3)0(1)0(3)0(2)0(2)0(3)0(3)0(2)0(2)0(1)0(1)          NaN   \n",
              "4  0(1)0(3)0(1)0(3)0(2)0(2)0(3)0(3)0(2)0(2)0(1)0(1)          NaN   \n",
              "5  0(1)0(3)0(1)0(3)0(2)0(2)0(3)1(3)0(2)1(2)1(1)1(1)          NaN   \n",
              "6  0(1)0(3)0(1)0(3)0(2)0(2)0(3)0(3)0(2)0(2)0(1)0(1)          NaN   \n",
              "7  0(1)0(3)0(1)0(3)0(2)0(2)0(3)0(3)0(2)0(2)0(1)0(1)          NaN   \n",
              "\n",
              "2 Первичный балл Балл Минимальный балл  \n",
              "3              8   20               24  \n",
              "4              8   20               24  \n",
              "5              9   22               24  \n",
              "6              9   22               24  \n",
              "7             10   24               24  "
            ]
          },
          "execution_count": 8,
          "metadata": {},
          "output_type": "execute_result"
        }
      ],
      "source": [
        "df_1.head()"
      ]
    },
    {
      "cell_type": "code",
      "execution_count": null,
      "metadata": {
        "id": "KKxfK6k9YnBM",
        "outputId": "b5050467-63d4-49f8-d985-df85a7276c64"
      },
      "outputs": [
        {
          "name": "stdout",
          "output_type": "stream",
          "text": [
            "02-Математика профильная\n",
            "03-Физика\n",
            "05-Информатика и ИКТ\n"
          ]
        }
      ],
      "source": [
        "df_2 = pd.read_excel('Вариант 2.xlsx', header=None) \n",
        "print(df_2.iloc[0][0])\n",
        "df_2.columns = df_2.iloc[2]\n",
        "df_2 = df_2.iloc[3:]\n",
        "\n",
        "df_3 = pd.read_excel('Вариант 3.xlsx', header=None) \n",
        "print(df_3.iloc[0][0])\n",
        "df_3.columns = df_3.iloc[2]\n",
        "df_3 = df_3.iloc[3:]\n",
        "\n",
        "df_4 = pd.read_excel('Вариант 4.xlsx', header=None) \n",
        "print(df_4.iloc[0][0])\n",
        "df_4.columns = df_4.iloc[2]\n",
        "df_4 = df_4.iloc[3:]"
      ]
    },
    {
      "cell_type": "markdown",
      "metadata": {
        "id": "ScU7s-hcYnBM"
      },
      "source": [
        "### 2.Сделайте описательную статистику по набранному баллу"
      ]
    },
    {
      "cell_type": "code",
      "execution_count": null,
      "metadata": {
        "id": "CqfDybpsYnBN"
      },
      "outputs": [],
      "source": [
        "subjects = ['Русский','Математика','Физика','Информатика']\n",
        "sub_num = [df_1,df_2,df_3,df_4]"
      ]
    },
    {
      "cell_type": "code",
      "execution_count": null,
      "metadata": {
        "id": "G05Exz-GYnBN",
        "outputId": "b684839a-e087-489e-e50e-ba9575127faf"
      },
      "outputs": [
        {
          "name": "stdout",
          "output_type": "stream",
          "text": [
            "Описательная статистика по предмету Русский :\n",
            " count    3049.000000\n",
            "mean       72.768777\n",
            "std        13.662673\n",
            "min        20.000000\n",
            "25%        64.000000\n",
            "50%        72.000000\n",
            "75%        82.000000\n",
            "max       100.000000\n",
            "Name: Балл, dtype: float64\n",
            "Описательная статистика по предмету Математика :\n",
            " count    2357.000000\n",
            "mean       49.254985\n",
            "std        17.876626\n",
            "min         5.000000\n",
            "25%        33.000000\n",
            "50%        50.000000\n",
            "75%        68.000000\n",
            "max        96.000000\n",
            "Name: Балл, dtype: float64\n",
            "Описательная статистика по предмету Физика :\n",
            " count    1181.000000\n",
            "mean       52.047417\n",
            "std        14.959135\n",
            "min        10.000000\n",
            "25%        41.000000\n",
            "50%        49.000000\n",
            "75%        60.000000\n",
            "max       100.000000\n",
            "Name: Балл, dtype: float64\n",
            "Описательная статистика по предмету Информатика :\n",
            " count    142.000000\n",
            "mean      60.774648\n",
            "std       19.350956\n",
            "min        0.000000\n",
            "25%       50.000000\n",
            "50%       63.000000\n",
            "75%       75.000000\n",
            "max      100.000000\n",
            "Name: Балл, dtype: float64\n"
          ]
        }
      ],
      "source": [
        "for sub in range(len(subjects)):\n",
        "    print('Описательная статистика по предмету',subjects[sub], ':\\n',  sub_num[sub]['Балл'].apply(lambda x:int(x)).describe())"
      ]
    },
    {
      "cell_type": "markdown",
      "metadata": {
        "id": "KjfoltTyYnBN"
      },
      "source": [
        "###  3.Найдите процент учащихся, выполнивших работу ниже среднего"
      ]
    },
    {
      "cell_type": "code",
      "execution_count": null,
      "metadata": {
        "id": "l--mTxLsYnBN",
        "outputId": "fb9af22d-981b-4837-fb85-a34bcf7c4d42"
      },
      "outputs": [
        {
          "name": "stdout",
          "output_type": "stream",
          "text": [
            "Процент учащихся, выполнивших работу ниже среднего по предмету Русский :\n",
            " 51.26%\n",
            "Процент учащихся, выполнивших работу ниже среднего по предмету Математика :\n",
            " 47.98%\n",
            "Процент учащихся, выполнивших работу ниже среднего по предмету Физика :\n",
            " 56.22%\n",
            "Процент учащихся, выполнивших работу ниже среднего по предмету Информатика :\n",
            " 45.77%\n"
          ]
        }
      ],
      "source": [
        "for sub in range(len(subjects)):\n",
        "    print('Процент учащихся, выполнивших работу ниже среднего по предмету',subjects[sub], ':\\n',  str(round((sub_num[sub]['Балл'] < sub_num[sub]['Балл'].mean()).sum()/sub_num[sub]['Балл'].count()*100,2) ) + '%')"
      ]
    },
    {
      "cell_type": "markdown",
      "metadata": {
        "id": "Lk40n69jYnBO"
      },
      "source": [
        "### 4.Найти процент учащихся не сдавших экзамен"
      ]
    },
    {
      "cell_type": "code",
      "execution_count": null,
      "metadata": {
        "id": "shZGzZMyYnBO",
        "outputId": "d1bece50-c866-410b-d744-0e4d6aa014e0"
      },
      "outputs": [
        {
          "name": "stdout",
          "output_type": "stream",
          "text": [
            "Процент учащихся, не сдавших экзамен по предмету Русский :\n",
            " 0.13%\n",
            "Процент учащихся, не сдавших экзамен по предмету Математика :\n",
            " 9.21%\n",
            "Процент учащихся, не сдавших экзамен по предмету Физика :\n",
            " 7.71%\n",
            "Процент учащихся, не сдавших экзамен по предмету Информатика :\n",
            " 11.27%\n"
          ]
        }
      ],
      "source": [
        "for sub in range(len(subjects)):\n",
        "    print('Процент учащихся, не сдавших экзамен по предмету',\n",
        "          subjects[sub], ':\\n',  \n",
        "          str(round((sub_num[sub]['Балл'] < sub_num[sub]['Минимальный балл']).sum()/sub_num[sub]['Балл'].count()*100,2) ) + '%')"
      ]
    },
    {
      "cell_type": "markdown",
      "metadata": {
        "id": "5GPARwpvYnBO"
      },
      "source": [
        "### 5.Постройте круговую диаграмму, показывающую распределение сдавших и не сдавших экзамен"
      ]
    },
    {
      "cell_type": "code",
      "execution_count": null,
      "metadata": {
        "id": "-J23XUOfYnBO"
      },
      "outputs": [],
      "source": [
        "def pass_or_not(df):\n",
        "    \n",
        "    return (df['Балл'] >= df['Минимальный балл']).sum(),(df['Балл'] < df['Минимальный балл']).sum()"
      ]
    },
    {
      "cell_type": "code",
      "execution_count": null,
      "metadata": {
        "id": "xjrspAebYnBO",
        "outputId": "80379d13-4d92-4a5c-bf93-e5c1249f1976"
      },
      "outputs": [
        {
          "data": {
            "image/png": "[encoded data removed]",
            "text/plain": [
              "<Figure size 432x288 with 4 Axes>"
            ]
          },
          "metadata": {},
          "output_type": "display_data"
        }
      ],
      "source": [
        "fig, ax = plt.subplots(2,2)\n",
        "ax[0,0].set_title('Русский')\n",
        "ax[0,1].set_title('Математика')\n",
        "ax[1,0].set_title('Физика')\n",
        "ax[1,1].set_title('Информатика')\n",
        "\n",
        "\n",
        "\n",
        "ax[0,0].pie(pass_or_not(df_1),labels = ['Сдали','Не сдали'])\n",
        "ax[0,1].pie(pass_or_not(df_2),labels = ['Сдали','Не сдали'])\n",
        "ax[1,0].pie(pass_or_not(df_3),labels = ['Сдали','Не сдали'])\n",
        "ax[1,1].pie(pass_or_not(df_4),labels = ['Сдали','Не сдали'])\n",
        "\n",
        "\n",
        "plt.show()"
      ]
    },
    {
      "cell_type": "markdown",
      "metadata": {
        "id": "JgSvEwedYnBP"
      },
      "source": [
        "### 6.Постройте ядерную оценку плотности распределению баллов за экзамен"
      ]
    },
    {
      "cell_type": "code",
      "execution_count": null,
      "metadata": {
        "id": "Q_K6WFeeYnBP",
        "outputId": "c11d9450-8302-4115-a190-1023252b2e69"
      },
      "outputs": [
        {
          "data": {
            "image/png": "[encoded data removed]",
            "text/plain": [
              "<Figure size 432x288 with 4 Axes>"
            ]
          },
          "metadata": {
            "needs_background": "light"
          },
          "output_type": "display_data"
        }
      ],
      "source": [
        "fig, ax = plt.subplots(2,2)\n",
        "plt.subplots_adjust(hspace=1)  #  Высота и ширина между графиками\n",
        "\n",
        "ax[0,0].set_title('Русский')\n",
        "ax[0,1].set_title('Математика')\n",
        "ax[1,0].set_title('Физика')\n",
        "ax[1,1].set_title('Информатика')\n",
        "\n",
        "\n",
        "\n",
        "sns.kdeplot(ax=ax[0, 0], data=df_1['Балл'])\n",
        "sns.kdeplot(ax=ax[0, 1], data=df_2['Балл'])\n",
        "sns.kdeplot(ax=ax[1, 0], data=df_3['Балл'])\n",
        "sns.kdeplot(ax=ax[1, 1], data=df_4['Балл'])\n",
        "\n",
        "plt.show()"
      ]
    },
    {
      "cell_type": "markdown",
      "metadata": {
        "id": "W4DD1IxMYnBP"
      },
      "source": [
        "### 7.Найдите процентное соотношение учащихся, сдавших экзамен на «отлично», «хорошо», «удовлетворительно», «неудовлетворительно»."
      ]
    },
    {
      "cell_type": "code",
      "execution_count": null,
      "metadata": {
        "id": "9lzdZNwaYnBQ",
        "outputId": "476b3f25-edf0-4313-82cd-84489a07e0ba"
      },
      "outputs": [
        {
          "data": {
            "text/plain": [
              "['Русский', 'Математика', 'Физика', 'Информатика']"
            ]
          },
          "execution_count": 50,
          "metadata": {},
          "output_type": "execute_result"
        }
      ],
      "source": [
        "subjects"
      ]
    },
    {
      "cell_type": "code",
      "execution_count": null,
      "metadata": {
        "id": "XoRSGuF3YnBQ"
      },
      "outputs": [],
      "source": [
        "marks = {'Русский':[35,59,72],\n",
        "         'Математика':[27,47,65],\n",
        "         'Физика':[36,54,68],\n",
        "         'Информатика':[40,57,73]}"
      ]
    },
    {
      "cell_type": "code",
      "execution_count": null,
      "metadata": {
        "id": "bi6KAT1uYnBQ"
      },
      "outputs": [],
      "source": [
        "def mark(x, i):\n",
        "    if x >= marks[subjects[i]][0] and x<marks[subjects[i]][1]:\n",
        "        return 'удовлетворительно'\n",
        "    elif x >= marks[subjects[i]][1] and x<marks[subjects[i]][2]:\n",
        "        return 'хорошо'\n",
        "    elif x >= marks[subjects[i]][2]:\n",
        "        return 'отлично'\n",
        "    else:\n",
        "        return 'неудовлетворительно'"
      ]
    },
    {
      "cell_type": "code",
      "execution_count": null,
      "metadata": {
        "id": "GZlyM_oUYnBQ",
        "outputId": "0f9812c9-5c62-4ac7-8d09-f62acfff6f16"
      },
      "outputs": [
        {
          "data": {
            "text/plain": [
              "3       неудовлетворительно\n",
              "4       неудовлетворительно\n",
              "5       неудовлетворительно\n",
              "6       неудовлетворительно\n",
              "7       неудовлетворительно\n",
              "               ...         \n",
              "3047                отлично\n",
              "3048                отлично\n",
              "3049                отлично\n",
              "3050                отлично\n",
              "3051                отлично\n",
              "Name: Балл, Length: 3049, dtype: object"
            ]
          },
          "execution_count": 53,
          "metadata": {},
          "output_type": "execute_result"
        }
      ],
      "source": [
        "df_1['Балл'].apply(lambda x: mark(x, 0))"
      ]
    },
    {
      "cell_type": "code",
      "execution_count": null,
      "metadata": {
        "id": "bNZ-lo3zYnBQ",
        "outputId": "368930e6-c940-4510-c506-0920e402f302"
      },
      "outputs": [
        {
          "name": "stdout",
          "output_type": "stream",
          "text": [
            "Доля оценок по предмету Русский :\n",
            " отлично                0.533290\n",
            "хорошо                 0.326337\n",
            "удовлетворительно      0.133486\n",
            "неудовлетворительно    0.006888\n",
            "Name: Балл, dtype: float64\n",
            "Доля оценок по предмету Математика :\n",
            " удовлетворительно      0.387781\n",
            "хорошо                 0.264319\n",
            "отлично                0.255834\n",
            "неудовлетворительно    0.092066\n",
            "Name: Балл, dtype: float64\n",
            "Доля оценок по предмету Физика :\n",
            " удовлетворительно      0.514818\n",
            "хорошо                 0.248942\n",
            "отлично                0.159187\n",
            "неудовлетворительно    0.077053\n",
            "Name: Балл, dtype: float64\n",
            "Доля оценок по предмету Информатика :\n",
            " хорошо                 0.323944\n",
            "отлично                0.302817\n",
            "удовлетворительно      0.260563\n",
            "неудовлетворительно    0.112676\n",
            "Name: Балл, dtype: float64\n"
          ]
        }
      ],
      "source": [
        "for sub in range(len(subjects)):\n",
        "    print('Доля оценок по предмету',subjects[sub], ':\\n',  sub_num[sub]['Балл'].apply(lambda x:mark(x, sub)).value_counts(normalize=True))"
      ]
    },
    {
      "cell_type": "markdown",
      "metadata": {
        "id": "wfEWcA90YnBQ"
      },
      "source": [
        "### 8.Какое процентное соотношение юношей и девушек писало данный экзамен?"
      ]
    },
    {
      "cell_type": "code",
      "execution_count": null,
      "metadata": {
        "id": "15hfOzl1YnBR",
        "outputId": "2329e38c-49aa-481a-f40a-10e4dd052eaa"
      },
      "outputs": [
        {
          "name": "stdout",
          "output_type": "stream",
          "text": [
            "Процентное соотношение юношей и девушек по предмету Русский :\n",
            " Ж    0.579724\n",
            "М    0.420276\n",
            "Name: Пол, dtype: float64\n",
            "Процентное соотношение юношей и девушек по предмету Математика :\n",
            " Ж    0.528438\n",
            "М    0.471562\n",
            "Name: Пол, dtype: float64\n",
            "Процентное соотношение юношей и девушек по предмету Физика :\n",
            " М    0.686441\n",
            "Ж    0.313559\n",
            "Name: Пол, dtype: float64\n",
            "Процентное соотношение юношей и девушек по предмету Информатика :\n",
            " М    0.77305\n",
            "Ж    0.22695\n",
            "Name: Пол, dtype: float64\n"
          ]
        }
      ],
      "source": [
        "for sub in range(len(subjects)):\n",
        "    print('Процентное соотношение юношей и девушек по предмету',subjects[sub], ':\\n',  sub_num[sub]['Пол'].value_counts(normalize=True))"
      ]
    },
    {
      "cell_type": "markdown",
      "metadata": {
        "id": "z0zaAkRFYnBR"
      },
      "source": [
        "### 9.Сколько школ принимало участие в экзамене?"
      ]
    },
    {
      "cell_type": "code",
      "execution_count": null,
      "metadata": {
        "id": "HaX1WMjrYnBR",
        "outputId": "60cb5a4b-c6ac-4a7f-85c5-3837b6aa8244"
      },
      "outputs": [
        {
          "name": "stdout",
          "output_type": "stream",
          "text": [
            "Школ принимало участие по предмету Русский :\n",
            " 24\n",
            "Школ принимало участие по предмету Математика :\n",
            " 17\n",
            "Школ принимало участие по предмету Физика :\n",
            " 19\n",
            "Школ принимало участие по предмету Информатика :\n",
            " 10\n"
          ]
        }
      ],
      "source": [
        "for sub in range(len(subjects)):\n",
        "    print('Школ принимало участие по предмету',subjects[sub], ':\\n',  sub_num[sub]['№ школы'].dropna().unique().shape[0])"
      ]
    },
    {
      "cell_type": "code",
      "execution_count": null,
      "metadata": {
        "id": "GdgRlx3IYnBR"
      },
      "outputs": [],
      "source": []
    }
  ],
  "metadata": {
    "kernelspec": {
      "display_name": "Python 3",
      "language": "python",
      "name": "python3"
    },
    "language_info": {
      "codemirror_mode": {
        "name": "ipython",
        "version": 3
      },
      "file_extension": ".py",
      "mimetype": "text/x-python",
      "name": "python",
      "nbconvert_exporter": "python",
      "pygments_lexer": "ipython3",
      "version": "3.8.3"
    },
    "colab": {
      "provenance": []
    }
  },
  "nbformat": 4,
  "nbformat_minor": 0
}