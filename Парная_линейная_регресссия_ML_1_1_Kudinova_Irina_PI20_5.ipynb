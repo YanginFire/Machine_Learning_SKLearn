{
  "nbformat": 4,
  "nbformat_minor": 0,
  "metadata": {
    "colab": {
      "provenance": []
    },
    "kernelspec": {
      "name": "python3",
      "display_name": "Python 3"
    },
    "language_info": {
      "name": "python"
    }
  },
  "cells": [
    {
      "cell_type": "code",
      "execution_count": null,
      "metadata": {
        "id": "n_3RKFuLXnm6"
      },
      "outputs": [],
      "source": [
        "import numpy as np\n",
        "import pandas as pd\n",
        "import matplotlib.pyplot as plt"
      ]
    },
    {
      "cell_type": "code",
      "source": [
        "mvid = pd.read_csv('https://raw.githubusercontent.com/koroteevmv/ML_course/main/ML1.1_sgd/data/MVID_101001_171001.txt')\n",
        "sber = pd.read_csv('https://raw.githubusercontent.com/koroteevmv/ML_course/main/ML1.1_sgd/data/SBER_101001_171001.txt')"
      ],
      "metadata": {
        "id": "CuKHDqetXwc4"
      },
      "execution_count": null,
      "outputs": []
    },
    {
      "cell_type": "code",
      "source": [
        "mvid.head()"
      ],
      "metadata": {
        "colab": {
          "base_uri": "https://localhost:8080/",
          "height": 206
        },
        "id": "Asgd-Az6X4W_",
        "outputId": "6bef8e93-1076-4771-fe9d-7f9f0989ea67"
      },
      "execution_count": null,
      "outputs": [
        {
          "output_type": "execute_result",
          "data": {
            "text/plain": [
              "  <TICKER> <PER>    <DATE>  <TIME>  <CLOSE>   <VOL>\n",
              "0     MVID     D  20101001       0   194.38   19406\n",
              "1     MVID     D  20101004       0   190.00   31039\n",
              "2     MVID     D  20101005       0   187.00   17651\n",
              "3     MVID     D  20101006       0   190.04   36482\n",
              "4     MVID     D  20101007       0   199.85  204248"
            ],
            "text/html": [
              "\n",
              "  <div id=\"df-3ed942e8-48a9-4f5f-b5a4-101099487989\">\n",
              "    <div class=\"colab-df-container\">\n",
              "      <div>\n",
              "<style scoped>\n",
              "    .dataframe tbody tr th:only-of-type {\n",
              "        vertical-align: middle;\n",
              "    }\n",
              "\n",
              "    .dataframe tbody tr th {\n",
              "        vertical-align: top;\n",
              "    }\n",
              "\n",
              "    .dataframe thead th {\n",
              "        text-align: right;\n",
              "    }\n",
              "</style>\n",
              "<table border=\"1\" class=\"dataframe\">\n",
              "  <thead>\n",
              "    <tr style=\"text-align: right;\">\n",
              "      <th></th>\n",
              "      <th>&lt;TICKER&gt;</th>\n",
              "      <th>&lt;PER&gt;</th>\n",
              "      <th>&lt;DATE&gt;</th>\n",
              "      <th>&lt;TIME&gt;</th>\n",
              "      <th>&lt;CLOSE&gt;</th>\n",
              "      <th>&lt;VOL&gt;</th>\n",
              "    </tr>\n",
              "  </thead>\n",
              "  <tbody>\n",
              "    <tr>\n",
              "      <th>0</th>\n",
              "      <td>MVID</td>\n",
              "      <td>D</td>\n",
              "      <td>20101001</td>\n",
              "      <td>0</td>\n",
              "      <td>194.38</td>\n",
              "      <td>19406</td>\n",
              "    </tr>\n",
              "    <tr>\n",
              "      <th>1</th>\n",
              "      <td>MVID</td>\n",
              "      <td>D</td>\n",
              "      <td>20101004</td>\n",
              "      <td>0</td>\n",
              "      <td>190.00</td>\n",
              "      <td>31039</td>\n",
              "    </tr>\n",
              "    <tr>\n",
              "      <th>2</th>\n",
              "      <td>MVID</td>\n",
              "      <td>D</td>\n",
              "      <td>20101005</td>\n",
              "      <td>0</td>\n",
              "      <td>187.00</td>\n",
              "      <td>17651</td>\n",
              "    </tr>\n",
              "    <tr>\n",
              "      <th>3</th>\n",
              "      <td>MVID</td>\n",
              "      <td>D</td>\n",
              "      <td>20101006</td>\n",
              "      <td>0</td>\n",
              "      <td>190.04</td>\n",
              "      <td>36482</td>\n",
              "    </tr>\n",
              "    <tr>\n",
              "      <th>4</th>\n",
              "      <td>MVID</td>\n",
              "      <td>D</td>\n",
              "      <td>20101007</td>\n",
              "      <td>0</td>\n",
              "      <td>199.85</td>\n",
              "      <td>204248</td>\n",
              "    </tr>\n",
              "  </tbody>\n",
              "</table>\n",
              "</div>\n",
              "      <button class=\"colab-df-convert\" onclick=\"convertToInteractive('df-3ed942e8-48a9-4f5f-b5a4-101099487989')\"\n",
              "              title=\"Convert this dataframe to an interactive table.\"\n",
              "              style=\"display:none;\">\n",
              "        \n",
              "  <svg xmlns=\"http://www.w3.org/2000/svg\" height=\"24px\"viewBox=\"0 0 24 24\"\n",
              "       width=\"24px\">\n",
              "    <path d=\"M0 0h24v24H0V0z\" fill=\"none\"/>\n",
              "    <path d=\"M18.56 5.44l.94 2.06.94-2.06 2.06-.94-2.06-.94-.94-2.06-.94 2.06-2.06.94zm-11 1L8.5 8.5l.94-2.06 2.06-.94-2.06-.94L8.5 2.5l-.94 2.06-2.06.94zm10 10l.94 2.06.94-2.06 2.06-.94-2.06-.94-.94-2.06-.94 2.06-2.06.94z\"/><path d=\"M17.41 7.96l-1.37-1.37c-.4-.4-.92-.59-1.43-.59-.52 0-1.04.2-1.43.59L10.3 9.45l-7.72 7.72c-.78.78-.78 2.05 0 2.83L4 21.41c.39.39.9.59 1.41.59.51 0 1.02-.2 1.41-.59l7.78-7.78 2.81-2.81c.8-.78.8-2.07 0-2.86zM5.41 20L4 18.59l7.72-7.72 1.47 1.35L5.41 20z\"/>\n",
              "  </svg>\n",
              "      </button>\n",
              "      \n",
              "  <style>\n",
              "    .colab-df-container {\n",
              "      display:flex;\n",
              "      flex-wrap:wrap;\n",
              "      gap: 12px;\n",
              "    }\n",
              "\n",
              "    .colab-df-convert {\n",
              "      background-color: #E8F0FE;\n",
              "      border: none;\n",
              "      border-radius: 50%;\n",
              "      cursor: pointer;\n",
              "      display: none;\n",
              "      fill: #1967D2;\n",
              "      height: 32px;\n",
              "      padding: 0 0 0 0;\n",
              "      width: 32px;\n",
              "    }\n",
              "\n",
              "    .colab-df-convert:hover {\n",
              "      background-color: #E2EBFA;\n",
              "      box-shadow: 0px 1px 2px rgba(60, 64, 67, 0.3), 0px 1px 3px 1px rgba(60, 64, 67, 0.15);\n",
              "      fill: #174EA6;\n",
              "    }\n",
              "\n",
              "    [theme=dark] .colab-df-convert {\n",
              "      background-color: #3B4455;\n",
              "      fill: #D2E3FC;\n",
              "    }\n",
              "\n",
              "    [theme=dark] .colab-df-convert:hover {\n",
              "      background-color: #434B5C;\n",
              "      box-shadow: 0px 1px 3px 1px rgba(0, 0, 0, 0.15);\n",
              "      filter: drop-shadow(0px 1px 2px rgba(0, 0, 0, 0.3));\n",
              "      fill: #FFFFFF;\n",
              "    }\n",
              "  </style>\n",
              "\n",
              "      <script>\n",
              "        const buttonEl =\n",
              "          document.querySelector('#df-3ed942e8-48a9-4f5f-b5a4-101099487989 button.colab-df-convert');\n",
              "        buttonEl.style.display =\n",
              "          google.colab.kernel.accessAllowed ? 'block' : 'none';\n",
              "\n",
              "        async function convertToInteractive(key) {\n",
              "          const element = document.querySelector('#df-3ed942e8-48a9-4f5f-b5a4-101099487989');\n",
              "          const dataTable =\n",
              "            await google.colab.kernel.invokeFunction('convertToInteractive',\n",
              "                                                     [key], {});\n",
              "          if (!dataTable) return;\n",
              "\n",
              "          const docLinkHtml = 'Like what you see? Visit the ' +\n",
              "            '<a target=\"_blank\" href=https://colab.research.google.com/notebooks/data_table.ipynb>data table notebook</a>'\n",
              "            + ' to learn more about interactive tables.';\n",
              "          element.innerHTML = '';\n",
              "          dataTable['output_type'] = 'display_data';\n",
              "          await google.colab.output.renderOutput(dataTable, element);\n",
              "          const docLink = document.createElement('div');\n",
              "          docLink.innerHTML = docLinkHtml;\n",
              "          element.appendChild(docLink);\n",
              "        }\n",
              "      </script>\n",
              "    </div>\n",
              "  </div>\n",
              "  "
            ]
          },
          "metadata": {},
          "execution_count": 3
        }
      ]
    },
    {
      "cell_type": "code",
      "source": [
        "sber.head()"
      ],
      "metadata": {
        "colab": {
          "base_uri": "https://localhost:8080/",
          "height": 206
        },
        "id": "FsZR7oXbX8Vv",
        "outputId": "8de8f350-1b29-4f63-f023-55d7d7a5f668"
      },
      "execution_count": null,
      "outputs": [
        {
          "output_type": "execute_result",
          "data": {
            "text/plain": [
              "  <TICKER> <PER>    <DATE>  <TIME>  <CLOSE>      <VOL>\n",
              "0     SBER     D  20101001       0    89.09  332429890\n",
              "1     SBER     D  20101004       0    89.88  194032721\n",
              "2     SBER     D  20101005       0    91.97  198775753\n",
              "3     SBER     D  20101006       0    91.20  210406027\n",
              "4     SBER     D  20101007       0    90.40  145137617"
            ],
            "text/html": [
              "\n",
              "  <div id=\"df-397138c4-1b1a-4232-b543-83b1fe2b1469\">\n",
              "    <div class=\"colab-df-container\">\n",
              "      <div>\n",
              "<style scoped>\n",
              "    .dataframe tbody tr th:only-of-type {\n",
              "        vertical-align: middle;\n",
              "    }\n",
              "\n",
              "    .dataframe tbody tr th {\n",
              "        vertical-align: top;\n",
              "    }\n",
              "\n",
              "    .dataframe thead th {\n",
              "        text-align: right;\n",
              "    }\n",
              "</style>\n",
              "<table border=\"1\" class=\"dataframe\">\n",
              "  <thead>\n",
              "    <tr style=\"text-align: right;\">\n",
              "      <th></th>\n",
              "      <th>&lt;TICKER&gt;</th>\n",
              "      <th>&lt;PER&gt;</th>\n",
              "      <th>&lt;DATE&gt;</th>\n",
              "      <th>&lt;TIME&gt;</th>\n",
              "      <th>&lt;CLOSE&gt;</th>\n",
              "      <th>&lt;VOL&gt;</th>\n",
              "    </tr>\n",
              "  </thead>\n",
              "  <tbody>\n",
              "    <tr>\n",
              "      <th>0</th>\n",
              "      <td>SBER</td>\n",
              "      <td>D</td>\n",
              "      <td>20101001</td>\n",
              "      <td>0</td>\n",
              "      <td>89.09</td>\n",
              "      <td>332429890</td>\n",
              "    </tr>\n",
              "    <tr>\n",
              "      <th>1</th>\n",
              "      <td>SBER</td>\n",
              "      <td>D</td>\n",
              "      <td>20101004</td>\n",
              "      <td>0</td>\n",
              "      <td>89.88</td>\n",
              "      <td>194032721</td>\n",
              "    </tr>\n",
              "    <tr>\n",
              "      <th>2</th>\n",
              "      <td>SBER</td>\n",
              "      <td>D</td>\n",
              "      <td>20101005</td>\n",
              "      <td>0</td>\n",
              "      <td>91.97</td>\n",
              "      <td>198775753</td>\n",
              "    </tr>\n",
              "    <tr>\n",
              "      <th>3</th>\n",
              "      <td>SBER</td>\n",
              "      <td>D</td>\n",
              "      <td>20101006</td>\n",
              "      <td>0</td>\n",
              "      <td>91.20</td>\n",
              "      <td>210406027</td>\n",
              "    </tr>\n",
              "    <tr>\n",
              "      <th>4</th>\n",
              "      <td>SBER</td>\n",
              "      <td>D</td>\n",
              "      <td>20101007</td>\n",
              "      <td>0</td>\n",
              "      <td>90.40</td>\n",
              "      <td>145137617</td>\n",
              "    </tr>\n",
              "  </tbody>\n",
              "</table>\n",
              "</div>\n",
              "      <button class=\"colab-df-convert\" onclick=\"convertToInteractive('df-397138c4-1b1a-4232-b543-83b1fe2b1469')\"\n",
              "              title=\"Convert this dataframe to an interactive table.\"\n",
              "              style=\"display:none;\">\n",
              "        \n",
              "  <svg xmlns=\"http://www.w3.org/2000/svg\" height=\"24px\"viewBox=\"0 0 24 24\"\n",
              "       width=\"24px\">\n",
              "    <path d=\"M0 0h24v24H0V0z\" fill=\"none\"/>\n",
              "    <path d=\"M18.56 5.44l.94 2.06.94-2.06 2.06-.94-2.06-.94-.94-2.06-.94 2.06-2.06.94zm-11 1L8.5 8.5l.94-2.06 2.06-.94-2.06-.94L8.5 2.5l-.94 2.06-2.06.94zm10 10l.94 2.06.94-2.06 2.06-.94-2.06-.94-.94-2.06-.94 2.06-2.06.94z\"/><path d=\"M17.41 7.96l-1.37-1.37c-.4-.4-.92-.59-1.43-.59-.52 0-1.04.2-1.43.59L10.3 9.45l-7.72 7.72c-.78.78-.78 2.05 0 2.83L4 21.41c.39.39.9.59 1.41.59.51 0 1.02-.2 1.41-.59l7.78-7.78 2.81-2.81c.8-.78.8-2.07 0-2.86zM5.41 20L4 18.59l7.72-7.72 1.47 1.35L5.41 20z\"/>\n",
              "  </svg>\n",
              "      </button>\n",
              "      \n",
              "  <style>\n",
              "    .colab-df-container {\n",
              "      display:flex;\n",
              "      flex-wrap:wrap;\n",
              "      gap: 12px;\n",
              "    }\n",
              "\n",
              "    .colab-df-convert {\n",
              "      background-color: #E8F0FE;\n",
              "      border: none;\n",
              "      border-radius: 50%;\n",
              "      cursor: pointer;\n",
              "      display: none;\n",
              "      fill: #1967D2;\n",
              "      height: 32px;\n",
              "      padding: 0 0 0 0;\n",
              "      width: 32px;\n",
              "    }\n",
              "\n",
              "    .colab-df-convert:hover {\n",
              "      background-color: #E2EBFA;\n",
              "      box-shadow: 0px 1px 2px rgba(60, 64, 67, 0.3), 0px 1px 3px 1px rgba(60, 64, 67, 0.15);\n",
              "      fill: #174EA6;\n",
              "    }\n",
              "\n",
              "    [theme=dark] .colab-df-convert {\n",
              "      background-color: #3B4455;\n",
              "      fill: #D2E3FC;\n",
              "    }\n",
              "\n",
              "    [theme=dark] .colab-df-convert:hover {\n",
              "      background-color: #434B5C;\n",
              "      box-shadow: 0px 1px 3px 1px rgba(0, 0, 0, 0.15);\n",
              "      filter: drop-shadow(0px 1px 2px rgba(0, 0, 0, 0.3));\n",
              "      fill: #FFFFFF;\n",
              "    }\n",
              "  </style>\n",
              "\n",
              "      <script>\n",
              "        const buttonEl =\n",
              "          document.querySelector('#df-397138c4-1b1a-4232-b543-83b1fe2b1469 button.colab-df-convert');\n",
              "        buttonEl.style.display =\n",
              "          google.colab.kernel.accessAllowed ? 'block' : 'none';\n",
              "\n",
              "        async function convertToInteractive(key) {\n",
              "          const element = document.querySelector('#df-397138c4-1b1a-4232-b543-83b1fe2b1469');\n",
              "          const dataTable =\n",
              "            await google.colab.kernel.invokeFunction('convertToInteractive',\n",
              "                                                     [key], {});\n",
              "          if (!dataTable) return;\n",
              "\n",
              "          const docLinkHtml = 'Like what you see? Visit the ' +\n",
              "            '<a target=\"_blank\" href=https://colab.research.google.com/notebooks/data_table.ipynb>data table notebook</a>'\n",
              "            + ' to learn more about interactive tables.';\n",
              "          element.innerHTML = '';\n",
              "          dataTable['output_type'] = 'display_data';\n",
              "          await google.colab.output.renderOutput(dataTable, element);\n",
              "          const docLink = document.createElement('div');\n",
              "          docLink.innerHTML = docLinkHtml;\n",
              "          element.appendChild(docLink);\n",
              "        }\n",
              "      </script>\n",
              "    </div>\n",
              "  </div>\n",
              "  "
            ]
          },
          "metadata": {},
          "execution_count": 4
        }
      ]
    },
    {
      "cell_type": "code",
      "source": [
        "mvid.info()"
      ],
      "metadata": {
        "colab": {
          "base_uri": "https://localhost:8080/"
        },
        "id": "eBT7A5WZYA__",
        "outputId": "4f473e84-ddb1-4223-a2dc-23e8aedd9016"
      },
      "execution_count": null,
      "outputs": [
        {
          "output_type": "stream",
          "name": "stdout",
          "text": [
            "<class 'pandas.core.frame.DataFrame'>\n",
            "RangeIndex: 1758 entries, 0 to 1757\n",
            "Data columns (total 6 columns):\n",
            " #   Column    Non-Null Count  Dtype  \n",
            "---  ------    --------------  -----  \n",
            " 0   <TICKER>  1758 non-null   object \n",
            " 1   <PER>     1758 non-null   object \n",
            " 2   <DATE>    1758 non-null   int64  \n",
            " 3   <TIME>    1758 non-null   int64  \n",
            " 4   <CLOSE>   1758 non-null   float64\n",
            " 5   <VOL>     1758 non-null   int64  \n",
            "dtypes: float64(1), int64(3), object(2)\n",
            "memory usage: 82.5+ KB\n"
          ]
        }
      ]
    },
    {
      "cell_type": "code",
      "source": [
        "sber.info()"
      ],
      "metadata": {
        "colab": {
          "base_uri": "https://localhost:8080/"
        },
        "id": "dYGZW6QIYBbX",
        "outputId": "fabac788-f91a-4579-a10d-645493d98915"
      },
      "execution_count": null,
      "outputs": [
        {
          "output_type": "stream",
          "name": "stdout",
          "text": [
            "<class 'pandas.core.frame.DataFrame'>\n",
            "RangeIndex: 1758 entries, 0 to 1757\n",
            "Data columns (total 6 columns):\n",
            " #   Column    Non-Null Count  Dtype  \n",
            "---  ------    --------------  -----  \n",
            " 0   <TICKER>  1758 non-null   object \n",
            " 1   <PER>     1758 non-null   object \n",
            " 2   <DATE>    1758 non-null   int64  \n",
            " 3   <TIME>    1758 non-null   int64  \n",
            " 4   <CLOSE>   1758 non-null   float64\n",
            " 5   <VOL>     1758 non-null   int64  \n",
            "dtypes: float64(1), int64(3), object(2)\n",
            "memory usage: 82.5+ KB\n"
          ]
        }
      ]
    },
    {
      "cell_type": "code",
      "source": [
        "result = pd.merge(sber, mvid, on='<DATE>')"
      ],
      "metadata": {
        "id": "HjntTihiYFVX"
      },
      "execution_count": null,
      "outputs": []
    },
    {
      "cell_type": "code",
      "source": [
        "result"
      ],
      "metadata": {
        "colab": {
          "base_uri": "https://localhost:8080/",
          "height": 424
        },
        "id": "iV7w1cfhYc0_",
        "outputId": "e1a31272-6b43-4e57-fec9-02e713e19646"
      },
      "execution_count": null,
      "outputs": [
        {
          "output_type": "execute_result",
          "data": {
            "text/plain": [
              "     <TICKER>_x <PER>_x    <DATE>  <TIME>_x  <CLOSE>_x    <VOL>_x <TICKER>_y  \\\n",
              "0          SBER       D  20101001         0      89.09  332429890       MVID   \n",
              "1          SBER       D  20101004         0      89.88  194032721       MVID   \n",
              "2          SBER       D  20101005         0      91.97  198775753       MVID   \n",
              "3          SBER       D  20101006         0      91.20  210406027       MVID   \n",
              "4          SBER       D  20101007         0      90.40  145137617       MVID   \n",
              "...         ...     ...       ...       ...        ...        ...        ...   \n",
              "1753       SBER       D  20170926         0     192.54   82022480       MVID   \n",
              "1754       SBER       D  20170927         0     193.70   54969700       MVID   \n",
              "1755       SBER       D  20170928         0     191.96   39061930       MVID   \n",
              "1756       SBER       D  20170929         0     192.33   26264260       MVID   \n",
              "1757       SBER       D  20171002         0     193.00   35930460       MVID   \n",
              "\n",
              "     <PER>_y  <TIME>_y  <CLOSE>_y  <VOL>_y  \n",
              "0          D         0     194.38    19406  \n",
              "1          D         0     190.00    31039  \n",
              "2          D         0     187.00    17651  \n",
              "3          D         0     190.04    36482  \n",
              "4          D         0     199.85   204248  \n",
              "...      ...       ...        ...      ...  \n",
              "1753       D         0     425.00    73570  \n",
              "1754       D         0     424.10    77680  \n",
              "1755       D         0     423.10    75540  \n",
              "1756       D         0     416.10    90430  \n",
              "1757       D         0     422.50    82220  \n",
              "\n",
              "[1758 rows x 11 columns]"
            ],
            "text/html": [
              "\n",
              "  <div id=\"df-74ebe6cb-e15d-40e4-a8b7-8f7bde8dba49\">\n",
              "    <div class=\"colab-df-container\">\n",
              "      <div>\n",
              "<style scoped>\n",
              "    .dataframe tbody tr th:only-of-type {\n",
              "        vertical-align: middle;\n",
              "    }\n",
              "\n",
              "    .dataframe tbody tr th {\n",
              "        vertical-align: top;\n",
              "    }\n",
              "\n",
              "    .dataframe thead th {\n",
              "        text-align: right;\n",
              "    }\n",
              "</style>\n",
              "<table border=\"1\" class=\"dataframe\">\n",
              "  <thead>\n",
              "    <tr style=\"text-align: right;\">\n",
              "      <th></th>\n",
              "      <th>&lt;TICKER&gt;_x</th>\n",
              "      <th>&lt;PER&gt;_x</th>\n",
              "      <th>&lt;DATE&gt;</th>\n",
              "      <th>&lt;TIME&gt;_x</th>\n",
              "      <th>&lt;CLOSE&gt;_x</th>\n",
              "      <th>&lt;VOL&gt;_x</th>\n",
              "      <th>&lt;TICKER&gt;_y</th>\n",
              "      <th>&lt;PER&gt;_y</th>\n",
              "      <th>&lt;TIME&gt;_y</th>\n",
              "      <th>&lt;CLOSE&gt;_y</th>\n",
              "      <th>&lt;VOL&gt;_y</th>\n",
              "    </tr>\n",
              "  </thead>\n",
              "  <tbody>\n",
              "    <tr>\n",
              "      <th>0</th>\n",
              "      <td>SBER</td>\n",
              "      <td>D</td>\n",
              "      <td>20101001</td>\n",
              "      <td>0</td>\n",
              "      <td>89.09</td>\n",
              "      <td>332429890</td>\n",
              "      <td>MVID</td>\n",
              "      <td>D</td>\n",
              "      <td>0</td>\n",
              "      <td>194.38</td>\n",
              "      <td>19406</td>\n",
              "    </tr>\n",
              "    <tr>\n",
              "      <th>1</th>\n",
              "      <td>SBER</td>\n",
              "      <td>D</td>\n",
              "      <td>20101004</td>\n",
              "      <td>0</td>\n",
              "      <td>89.88</td>\n",
              "      <td>194032721</td>\n",
              "      <td>MVID</td>\n",
              "      <td>D</td>\n",
              "      <td>0</td>\n",
              "      <td>190.00</td>\n",
              "      <td>31039</td>\n",
              "    </tr>\n",
              "    <tr>\n",
              "      <th>2</th>\n",
              "      <td>SBER</td>\n",
              "      <td>D</td>\n",
              "      <td>20101005</td>\n",
              "      <td>0</td>\n",
              "      <td>91.97</td>\n",
              "      <td>198775753</td>\n",
              "      <td>MVID</td>\n",
              "      <td>D</td>\n",
              "      <td>0</td>\n",
              "      <td>187.00</td>\n",
              "      <td>17651</td>\n",
              "    </tr>\n",
              "    <tr>\n",
              "      <th>3</th>\n",
              "      <td>SBER</td>\n",
              "      <td>D</td>\n",
              "      <td>20101006</td>\n",
              "      <td>0</td>\n",
              "      <td>91.20</td>\n",
              "      <td>210406027</td>\n",
              "      <td>MVID</td>\n",
              "      <td>D</td>\n",
              "      <td>0</td>\n",
              "      <td>190.04</td>\n",
              "      <td>36482</td>\n",
              "    </tr>\n",
              "    <tr>\n",
              "      <th>4</th>\n",
              "      <td>SBER</td>\n",
              "      <td>D</td>\n",
              "      <td>20101007</td>\n",
              "      <td>0</td>\n",
              "      <td>90.40</td>\n",
              "      <td>145137617</td>\n",
              "      <td>MVID</td>\n",
              "      <td>D</td>\n",
              "      <td>0</td>\n",
              "      <td>199.85</td>\n",
              "      <td>204248</td>\n",
              "    </tr>\n",
              "    <tr>\n",
              "      <th>...</th>\n",
              "      <td>...</td>\n",
              "      <td>...</td>\n",
              "      <td>...</td>\n",
              "      <td>...</td>\n",
              "      <td>...</td>\n",
              "      <td>...</td>\n",
              "      <td>...</td>\n",
              "      <td>...</td>\n",
              "      <td>...</td>\n",
              "      <td>...</td>\n",
              "      <td>...</td>\n",
              "    </tr>\n",
              "    <tr>\n",
              "      <th>1753</th>\n",
              "      <td>SBER</td>\n",
              "      <td>D</td>\n",
              "      <td>20170926</td>\n",
              "      <td>0</td>\n",
              "      <td>192.54</td>\n",
              "      <td>82022480</td>\n",
              "      <td>MVID</td>\n",
              "      <td>D</td>\n",
              "      <td>0</td>\n",
              "      <td>425.00</td>\n",
              "      <td>73570</td>\n",
              "    </tr>\n",
              "    <tr>\n",
              "      <th>1754</th>\n",
              "      <td>SBER</td>\n",
              "      <td>D</td>\n",
              "      <td>20170927</td>\n",
              "      <td>0</td>\n",
              "      <td>193.70</td>\n",
              "      <td>54969700</td>\n",
              "      <td>MVID</td>\n",
              "      <td>D</td>\n",
              "      <td>0</td>\n",
              "      <td>424.10</td>\n",
              "      <td>77680</td>\n",
              "    </tr>\n",
              "    <tr>\n",
              "      <th>1755</th>\n",
              "      <td>SBER</td>\n",
              "      <td>D</td>\n",
              "      <td>20170928</td>\n",
              "      <td>0</td>\n",
              "      <td>191.96</td>\n",
              "      <td>39061930</td>\n",
              "      <td>MVID</td>\n",
              "      <td>D</td>\n",
              "      <td>0</td>\n",
              "      <td>423.10</td>\n",
              "      <td>75540</td>\n",
              "    </tr>\n",
              "    <tr>\n",
              "      <th>1756</th>\n",
              "      <td>SBER</td>\n",
              "      <td>D</td>\n",
              "      <td>20170929</td>\n",
              "      <td>0</td>\n",
              "      <td>192.33</td>\n",
              "      <td>26264260</td>\n",
              "      <td>MVID</td>\n",
              "      <td>D</td>\n",
              "      <td>0</td>\n",
              "      <td>416.10</td>\n",
              "      <td>90430</td>\n",
              "    </tr>\n",
              "    <tr>\n",
              "      <th>1757</th>\n",
              "      <td>SBER</td>\n",
              "      <td>D</td>\n",
              "      <td>20171002</td>\n",
              "      <td>0</td>\n",
              "      <td>193.00</td>\n",
              "      <td>35930460</td>\n",
              "      <td>MVID</td>\n",
              "      <td>D</td>\n",
              "      <td>0</td>\n",
              "      <td>422.50</td>\n",
              "      <td>82220</td>\n",
              "    </tr>\n",
              "  </tbody>\n",
              "</table>\n",
              "<p>1758 rows × 11 columns</p>\n",
              "</div>\n",
              "      <button class=\"colab-df-convert\" onclick=\"convertToInteractive('df-74ebe6cb-e15d-40e4-a8b7-8f7bde8dba49')\"\n",
              "              title=\"Convert this dataframe to an interactive table.\"\n",
              "              style=\"display:none;\">\n",
              "        \n",
              "  <svg xmlns=\"http://www.w3.org/2000/svg\" height=\"24px\"viewBox=\"0 0 24 24\"\n",
              "       width=\"24px\">\n",
              "    <path d=\"M0 0h24v24H0V0z\" fill=\"none\"/>\n",
              "    <path d=\"M18.56 5.44l.94 2.06.94-2.06 2.06-.94-2.06-.94-.94-2.06-.94 2.06-2.06.94zm-11 1L8.5 8.5l.94-2.06 2.06-.94-2.06-.94L8.5 2.5l-.94 2.06-2.06.94zm10 10l.94 2.06.94-2.06 2.06-.94-2.06-.94-.94-2.06-.94 2.06-2.06.94z\"/><path d=\"M17.41 7.96l-1.37-1.37c-.4-.4-.92-.59-1.43-.59-.52 0-1.04.2-1.43.59L10.3 9.45l-7.72 7.72c-.78.78-.78 2.05 0 2.83L4 21.41c.39.39.9.59 1.41.59.51 0 1.02-.2 1.41-.59l7.78-7.78 2.81-2.81c.8-.78.8-2.07 0-2.86zM5.41 20L4 18.59l7.72-7.72 1.47 1.35L5.41 20z\"/>\n",
              "  </svg>\n",
              "      </button>\n",
              "      \n",
              "  <style>\n",
              "    .colab-df-container {\n",
              "      display:flex;\n",
              "      flex-wrap:wrap;\n",
              "      gap: 12px;\n",
              "    }\n",
              "\n",
              "    .colab-df-convert {\n",
              "      background-color: #E8F0FE;\n",
              "      border: none;\n",
              "      border-radius: 50%;\n",
              "      cursor: pointer;\n",
              "      display: none;\n",
              "      fill: #1967D2;\n",
              "      height: 32px;\n",
              "      padding: 0 0 0 0;\n",
              "      width: 32px;\n",
              "    }\n",
              "\n",
              "    .colab-df-convert:hover {\n",
              "      background-color: #E2EBFA;\n",
              "      box-shadow: 0px 1px 2px rgba(60, 64, 67, 0.3), 0px 1px 3px 1px rgba(60, 64, 67, 0.15);\n",
              "      fill: #174EA6;\n",
              "    }\n",
              "\n",
              "    [theme=dark] .colab-df-convert {\n",
              "      background-color: #3B4455;\n",
              "      fill: #D2E3FC;\n",
              "    }\n",
              "\n",
              "    [theme=dark] .colab-df-convert:hover {\n",
              "      background-color: #434B5C;\n",
              "      box-shadow: 0px 1px 3px 1px rgba(0, 0, 0, 0.15);\n",
              "      filter: drop-shadow(0px 1px 2px rgba(0, 0, 0, 0.3));\n",
              "      fill: #FFFFFF;\n",
              "    }\n",
              "  </style>\n",
              "\n",
              "      <script>\n",
              "        const buttonEl =\n",
              "          document.querySelector('#df-74ebe6cb-e15d-40e4-a8b7-8f7bde8dba49 button.colab-df-convert');\n",
              "        buttonEl.style.display =\n",
              "          google.colab.kernel.accessAllowed ? 'block' : 'none';\n",
              "\n",
              "        async function convertToInteractive(key) {\n",
              "          const element = document.querySelector('#df-74ebe6cb-e15d-40e4-a8b7-8f7bde8dba49');\n",
              "          const dataTable =\n",
              "            await google.colab.kernel.invokeFunction('convertToInteractive',\n",
              "                                                     [key], {});\n",
              "          if (!dataTable) return;\n",
              "\n",
              "          const docLinkHtml = 'Like what you see? Visit the ' +\n",
              "            '<a target=\"_blank\" href=https://colab.research.google.com/notebooks/data_table.ipynb>data table notebook</a>'\n",
              "            + ' to learn more about interactive tables.';\n",
              "          element.innerHTML = '';\n",
              "          dataTable['output_type'] = 'display_data';\n",
              "          await google.colab.output.renderOutput(dataTable, element);\n",
              "          const docLink = document.createElement('div');\n",
              "          docLink.innerHTML = docLinkHtml;\n",
              "          element.appendChild(docLink);\n",
              "        }\n",
              "      </script>\n",
              "    </div>\n",
              "  </div>\n",
              "  "
            ]
          },
          "metadata": {},
          "execution_count": 8
        }
      ]
    },
    {
      "cell_type": "code",
      "source": [
        "x = result['<CLOSE>_x']\n",
        "y = result['<CLOSE>_y']"
      ],
      "metadata": {
        "id": "f8aG7pBXYf7v"
      },
      "execution_count": null,
      "outputs": []
    },
    {
      "cell_type": "code",
      "source": [
        "plt.plot(x,y)"
      ],
      "metadata": {
        "colab": {
          "base_uri": "https://localhost:8080/",
          "height": 282
        },
        "id": "VlXczIxXYiD3",
        "outputId": "9c8e340b-dd50-44f2-8d2d-0ed5e4f042c0"
      },
      "execution_count": null,
      "outputs": [
        {
          "output_type": "execute_result",
          "data": {
            "text/plain": [
              "[<matplotlib.lines.Line2D at 0x7fb6206edf50>]"
            ]
          },
          "metadata": {},
          "execution_count": 10
        },
        {
          "output_type": "display_data",
          "data": {
            "text/plain": [
              "<Figure size 432x288 with 1 Axes>"
            ],
            "image/png": "[encoded data removed]"
          },
          "metadata": {
            "needs_background": "light"
          }
        }
      ]
    },
    {
      "cell_type": "code",
      "source": [
        "plt.scatter(x,y)"
      ],
      "metadata": {
        "colab": {
          "base_uri": "https://localhost:8080/",
          "height": 282
        },
        "id": "cB_6lRZWYiwf",
        "outputId": "0676d31e-90eb-45a8-ddf5-875e3d1d152a"
      },
      "execution_count": null,
      "outputs": [
        {
          "output_type": "execute_result",
          "data": {
            "text/plain": [
              "<matplotlib.collections.PathCollection at 0x7fb6218c99d0>"
            ]
          },
          "metadata": {},
          "execution_count": 11
        },
        {
          "output_type": "display_data",
          "data": {
            "text/plain": [
              "<Figure size 432x288 with 1 Axes>"
            ],
            "image/png": "[encoded data removed]"
          },
          "metadata": {
            "needs_background": "light"
          }
        }
      ]
    },
    {
      "cell_type": "code",
      "source": [
        "class Model:\n",
        "  def __init__(self):\n",
        "    self.b0 = 0\n",
        "    self.b1 = 0\n",
        "  def predict(self, x):\n",
        "    return self.b0 + self.b1 * x\n",
        "  #функция ошибки\n",
        "  #m len(y) - количество точек\n",
        "  def error(self, x, y):\n",
        "    return sum((self.predict(x) - y) ** 2 ) / (2 * len(y))\n",
        "  #Для градиентного спуска\n",
        "  def fit(self, x, y):\n",
        "    alpha = 1\n",
        "    steps = []\n",
        "    errors = []\n",
        "\n",
        "    for i in range(1000):\n",
        "      errors.append(self.error(x,y))\n",
        "      steps.append(i)\n",
        "      \n",
        "      dj0 = sum(self.predict(x) - y) / len(y)\n",
        "      dj1 = sum((self.predict(x) - y)* x)/ len(y)\n",
        "      self.b0 -= dj0 * alpha\n",
        "      self.b1 -= dj1 * alpha\n",
        "\n",
        "      if self.error(x,y)> errors[-1]:\n",
        "        alpha = alpha/10\n",
        "\n",
        "    print('alpha=', alpha)\n",
        "    return steps, errors"
      ],
      "metadata": {
        "id": "Rg0SNpA2Axuq"
      },
      "execution_count": null,
      "outputs": []
    },
    {
      "cell_type": "code",
      "source": [
        "model = Model()\n",
        "# кривая обучения\n",
        "steps, errors = model.fit(x,y)\n",
        "\n",
        "plt.scatter(x,y)\n",
        "plt.plot(x, model.predict(x), color = 'r')"
      ],
      "metadata": {
        "colab": {
          "base_uri": "https://localhost:8080/",
          "height": 304
        },
        "id": "1tcvpjCKA-MJ",
        "outputId": "26799560-80ff-415e-c21b-616fd5d20865"
      },
      "execution_count": null,
      "outputs": [
        {
          "output_type": "stream",
          "name": "stdout",
          "text": [
            "alpha= 0.0001\n"
          ]
        },
        {
          "output_type": "execute_result",
          "data": {
            "text/plain": [
              "[<matplotlib.lines.Line2D at 0x7fb6200a7650>]"
            ]
          },
          "metadata": {},
          "execution_count": 13
        },
        {
          "output_type": "display_data",
          "data": {
            "text/plain": [
              "<Figure size 432x288 with 1 Axes>"
            ],
            "image/png": "[encoded data removed]"
          },
          "metadata": {
            "needs_background": "light"
          }
        }
      ]
    },
    {
      "cell_type": "code",
      "source": [
        "steps, errors = model.fit(x,y)\n",
        "print(model.error(x,y))\n",
        "\n",
        "plt.plot(steps, errors)"
      ],
      "metadata": {
        "colab": {
          "base_uri": "https://localhost:8080/",
          "height": 317
        },
        "id": "e2Fm2It1BBN5",
        "outputId": "3c75b6c9-103a-40c8-df42-0aa686a1e72a"
      },
      "execution_count": null,
      "outputs": [
        {
          "output_type": "stream",
          "name": "stdout",
          "text": [
            "alpha= 0.0001\n",
            "296.8067070010223\n"
          ]
        },
        {
          "output_type": "execute_result",
          "data": {
            "text/plain": [
              "[<matplotlib.lines.Line2D at 0x7fb62059a750>]"
            ]
          },
          "metadata": {},
          "execution_count": 14
        },
        {
          "output_type": "display_data",
          "data": {
            "text/plain": [
              "<Figure size 432x288 with 1 Axes>"
            ],
            "image/png": "[encoded data removed]"
          },
          "metadata": {
            "needs_background": "light"
          }
        }
      ]
    },
    {
      "cell_type": "markdown",
      "source": [
        "Задание 2. Постройте модель регрессии на другой паре инструментов."
      ],
      "metadata": {
        "id": "adT6dnRIBd1y"
      }
    },
    {
      "cell_type": "code",
      "source": [
        "yandex = pd.read_csv('https://raw.githubusercontent.com/koroteevmv/ML_course/main/ML1.1_sgd/data/YNDX_101001_171001.txt')\n",
        "D_J = pd.read_csv('https://raw.githubusercontent.com/koroteevmv/ML_course/main/ML1.1_sgd/data/D_J-IND_101001_171001.txt')"
      ],
      "metadata": {
        "id": "VenvbsjbCKgK"
      },
      "execution_count": null,
      "outputs": []
    },
    {
      "cell_type": "code",
      "source": [
        "regress_2 = pd.merge(D_J, yandex, on = '<DATE>')\n",
        "regress_2.head()"
      ],
      "metadata": {
        "id": "o5uDV61xd88I",
        "colab": {
          "base_uri": "https://localhost:8080/",
          "height": 206
        },
        "outputId": "6697001e-1371-4ae3-8105-1ed2ce20d9c1"
      },
      "execution_count": null,
      "outputs": [
        {
          "output_type": "execute_result",
          "data": {
            "text/plain": [
              "  <TICKER>_x <PER>_x    <DATE>  <TIME>_x  <CLOSE>_x  <VOL>_x <TICKER>_y  \\\n",
              "0    D&J-IND       D  20140604         0   16737.53        0       YNDX   \n",
              "1    D&J-IND       D  20140605         0   16836.11        0       YNDX   \n",
              "2    D&J-IND       D  20140606         0   16924.28        0       YNDX   \n",
              "3    D&J-IND       D  20140609         0   16943.10        0       YNDX   \n",
              "4    D&J-IND       D  20140610         0   16945.92        0       YNDX   \n",
              "\n",
              "  <PER>_y  <TIME>_y  <CLOSE>_y  <VOL>_y  \n",
              "0       D         0     1170.0    35146  \n",
              "1       D         0     1145.1    24973  \n",
              "2       D         0     1163.0     7889  \n",
              "3       D         0     1172.1     7304  \n",
              "4       D         0     1170.0     3207  "
            ],
            "text/html": [
              "\n",
              "  <div id=\"df-b735ebf4-c30f-4e58-be74-c2b8da3d1413\">\n",
              "    <div class=\"colab-df-container\">\n",
              "      <div>\n",
              "<style scoped>\n",
              "    .dataframe tbody tr th:only-of-type {\n",
              "        vertical-align: middle;\n",
              "    }\n",
              "\n",
              "    .dataframe tbody tr th {\n",
              "        vertical-align: top;\n",
              "    }\n",
              "\n",
              "    .dataframe thead th {\n",
              "        text-align: right;\n",
              "    }\n",
              "</style>\n",
              "<table border=\"1\" class=\"dataframe\">\n",
              "  <thead>\n",
              "    <tr style=\"text-align: right;\">\n",
              "      <th></th>\n",
              "      <th>&lt;TICKER&gt;_x</th>\n",
              "      <th>&lt;PER&gt;_x</th>\n",
              "      <th>&lt;DATE&gt;</th>\n",
              "      <th>&lt;TIME&gt;_x</th>\n",
              "      <th>&lt;CLOSE&gt;_x</th>\n",
              "      <th>&lt;VOL&gt;_x</th>\n",
              "      <th>&lt;TICKER&gt;_y</th>\n",
              "      <th>&lt;PER&gt;_y</th>\n",
              "      <th>&lt;TIME&gt;_y</th>\n",
              "      <th>&lt;CLOSE&gt;_y</th>\n",
              "      <th>&lt;VOL&gt;_y</th>\n",
              "    </tr>\n",
              "  </thead>\n",
              "  <tbody>\n",
              "    <tr>\n",
              "      <th>0</th>\n",
              "      <td>D&amp;J-IND</td>\n",
              "      <td>D</td>\n",
              "      <td>20140604</td>\n",
              "      <td>0</td>\n",
              "      <td>16737.53</td>\n",
              "      <td>0</td>\n",
              "      <td>YNDX</td>\n",
              "      <td>D</td>\n",
              "      <td>0</td>\n",
              "      <td>1170.0</td>\n",
              "      <td>35146</td>\n",
              "    </tr>\n",
              "    <tr>\n",
              "      <th>1</th>\n",
              "      <td>D&amp;J-IND</td>\n",
              "      <td>D</td>\n",
              "      <td>20140605</td>\n",
              "      <td>0</td>\n",
              "      <td>16836.11</td>\n",
              "      <td>0</td>\n",
              "      <td>YNDX</td>\n",
              "      <td>D</td>\n",
              "      <td>0</td>\n",
              "      <td>1145.1</td>\n",
              "      <td>24973</td>\n",
              "    </tr>\n",
              "    <tr>\n",
              "      <th>2</th>\n",
              "      <td>D&amp;J-IND</td>\n",
              "      <td>D</td>\n",
              "      <td>20140606</td>\n",
              "      <td>0</td>\n",
              "      <td>16924.28</td>\n",
              "      <td>0</td>\n",
              "      <td>YNDX</td>\n",
              "      <td>D</td>\n",
              "      <td>0</td>\n",
              "      <td>1163.0</td>\n",
              "      <td>7889</td>\n",
              "    </tr>\n",
              "    <tr>\n",
              "      <th>3</th>\n",
              "      <td>D&amp;J-IND</td>\n",
              "      <td>D</td>\n",
              "      <td>20140609</td>\n",
              "      <td>0</td>\n",
              "      <td>16943.10</td>\n",
              "      <td>0</td>\n",
              "      <td>YNDX</td>\n",
              "      <td>D</td>\n",
              "      <td>0</td>\n",
              "      <td>1172.1</td>\n",
              "      <td>7304</td>\n",
              "    </tr>\n",
              "    <tr>\n",
              "      <th>4</th>\n",
              "      <td>D&amp;J-IND</td>\n",
              "      <td>D</td>\n",
              "      <td>20140610</td>\n",
              "      <td>0</td>\n",
              "      <td>16945.92</td>\n",
              "      <td>0</td>\n",
              "      <td>YNDX</td>\n",
              "      <td>D</td>\n",
              "      <td>0</td>\n",
              "      <td>1170.0</td>\n",
              "      <td>3207</td>\n",
              "    </tr>\n",
              "  </tbody>\n",
              "</table>\n",
              "</div>\n",
              "      <button class=\"colab-df-convert\" onclick=\"convertToInteractive('df-b735ebf4-c30f-4e58-be74-c2b8da3d1413')\"\n",
              "              title=\"Convert this dataframe to an interactive table.\"\n",
              "              style=\"display:none;\">\n",
              "        \n",
              "  <svg xmlns=\"http://www.w3.org/2000/svg\" height=\"24px\"viewBox=\"0 0 24 24\"\n",
              "       width=\"24px\">\n",
              "    <path d=\"M0 0h24v24H0V0z\" fill=\"none\"/>\n",
              "    <path d=\"M18.56 5.44l.94 2.06.94-2.06 2.06-.94-2.06-.94-.94-2.06-.94 2.06-2.06.94zm-11 1L8.5 8.5l.94-2.06 2.06-.94-2.06-.94L8.5 2.5l-.94 2.06-2.06.94zm10 10l.94 2.06.94-2.06 2.06-.94-2.06-.94-.94-2.06-.94 2.06-2.06.94z\"/><path d=\"M17.41 7.96l-1.37-1.37c-.4-.4-.92-.59-1.43-.59-.52 0-1.04.2-1.43.59L10.3 9.45l-7.72 7.72c-.78.78-.78 2.05 0 2.83L4 21.41c.39.39.9.59 1.41.59.51 0 1.02-.2 1.41-.59l7.78-7.78 2.81-2.81c.8-.78.8-2.07 0-2.86zM5.41 20L4 18.59l7.72-7.72 1.47 1.35L5.41 20z\"/>\n",
              "  </svg>\n",
              "      </button>\n",
              "      \n",
              "  <style>\n",
              "    .colab-df-container {\n",
              "      display:flex;\n",
              "      flex-wrap:wrap;\n",
              "      gap: 12px;\n",
              "    }\n",
              "\n",
              "    .colab-df-convert {\n",
              "      background-color: #E8F0FE;\n",
              "      border: none;\n",
              "      border-radius: 50%;\n",
              "      cursor: pointer;\n",
              "      display: none;\n",
              "      fill: #1967D2;\n",
              "      height: 32px;\n",
              "      padding: 0 0 0 0;\n",
              "      width: 32px;\n",
              "    }\n",
              "\n",
              "    .colab-df-convert:hover {\n",
              "      background-color: #E2EBFA;\n",
              "      box-shadow: 0px 1px 2px rgba(60, 64, 67, 0.3), 0px 1px 3px 1px rgba(60, 64, 67, 0.15);\n",
              "      fill: #174EA6;\n",
              "    }\n",
              "\n",
              "    [theme=dark] .colab-df-convert {\n",
              "      background-color: #3B4455;\n",
              "      fill: #D2E3FC;\n",
              "    }\n",
              "\n",
              "    [theme=dark] .colab-df-convert:hover {\n",
              "      background-color: #434B5C;\n",
              "      box-shadow: 0px 1px 3px 1px rgba(0, 0, 0, 0.15);\n",
              "      filter: drop-shadow(0px 1px 2px rgba(0, 0, 0, 0.3));\n",
              "      fill: #FFFFFF;\n",
              "    }\n",
              "  </style>\n",
              "\n",
              "      <script>\n",
              "        const buttonEl =\n",
              "          document.querySelector('#df-b735ebf4-c30f-4e58-be74-c2b8da3d1413 button.colab-df-convert');\n",
              "        buttonEl.style.display =\n",
              "          google.colab.kernel.accessAllowed ? 'block' : 'none';\n",
              "\n",
              "        async function convertToInteractive(key) {\n",
              "          const element = document.querySelector('#df-b735ebf4-c30f-4e58-be74-c2b8da3d1413');\n",
              "          const dataTable =\n",
              "            await google.colab.kernel.invokeFunction('convertToInteractive',\n",
              "                                                     [key], {});\n",
              "          if (!dataTable) return;\n",
              "\n",
              "          const docLinkHtml = 'Like what you see? Visit the ' +\n",
              "            '<a target=\"_blank\" href=https://colab.research.google.com/notebooks/data_table.ipynb>data table notebook</a>'\n",
              "            + ' to learn more about interactive tables.';\n",
              "          element.innerHTML = '';\n",
              "          dataTable['output_type'] = 'display_data';\n",
              "          await google.colab.output.renderOutput(dataTable, element);\n",
              "          const docLink = document.createElement('div');\n",
              "          docLink.innerHTML = docLinkHtml;\n",
              "          element.appendChild(docLink);\n",
              "        }\n",
              "      </script>\n",
              "    </div>\n",
              "  </div>\n",
              "  "
            ]
          },
          "metadata": {},
          "execution_count": 20
        }
      ]
    },
    {
      "cell_type": "code",
      "source": [
        "x1 = regress_2['<CLOSE>_x']\n",
        "y1 = regress_2['<CLOSE>_y']\n",
        "plt.scatter(x1,y1)"
      ],
      "metadata": {
        "colab": {
          "base_uri": "https://localhost:8080/",
          "height": 282
        },
        "id": "BuBZ2xZBClgk",
        "outputId": "4c8de9e9-ec45-4c86-c90b-5ac81e3c0cf3"
      },
      "execution_count": null,
      "outputs": [
        {
          "output_type": "execute_result",
          "data": {
            "text/plain": [
              "<matplotlib.collections.PathCollection at 0x7fb61f3dac10>"
            ]
          },
          "metadata": {},
          "execution_count": 21
        },
        {
          "output_type": "display_data",
          "data": {
            "text/plain": [
              "<Figure size 432x288 with 1 Axes>"
            ],
            "image/png": "[encoded data removed]"
          },
          "metadata": {
            "needs_background": "light"
          }
        }
      ]
    },
    {
      "cell_type": "code",
      "source": [
        "model = Model()\n",
        "steps, errors = model.fit(x1,y1)\n",
        "\n",
        "plt.scatter(x1,y1)\n",
        "plt.plot(x1, model.predict(x1), color = 'r')"
      ],
      "metadata": {
        "colab": {
          "base_uri": "https://localhost:8080/",
          "height": 300
        },
        "id": "INg76WntC5db",
        "outputId": "cb8b0ed5-1f50-494f-84eb-b50537e237a4"
      },
      "execution_count": null,
      "outputs": [
        {
          "output_type": "stream",
          "name": "stdout",
          "text": [
            "alpha= 1.0000000000000003e-09\n"
          ]
        },
        {
          "output_type": "execute_result",
          "data": {
            "text/plain": [
              "[<matplotlib.lines.Line2D at 0x7fb61f364150>]"
            ]
          },
          "metadata": {},
          "execution_count": 22
        },
        {
          "output_type": "display_data",
          "data": {
            "text/plain": [
              "<Figure size 432x288 with 1 Axes>"
            ],
            "image/png": "[encoded data removed]"
          },
          "metadata": {
            "needs_background": "light"
          }
        }
      ]
    },
    {
      "cell_type": "code",
      "source": [
        "steps, errors = model.fit(x1,y1)\n",
        "print(model.error(x1,y1))\n",
        "\n",
        "plt.plot(steps, errors)"
      ],
      "metadata": {
        "colab": {
          "base_uri": "https://localhost:8080/",
          "height": 317
        },
        "id": "AvCR1FyWC8ua",
        "outputId": "8481a2a1-87e9-455c-e25c-151e2653b18f"
      },
      "execution_count": null,
      "outputs": [
        {
          "output_type": "stream",
          "name": "stdout",
          "text": [
            "alpha= 1.0000000000000003e-09\n",
            "18164.985429366523\n"
          ]
        },
        {
          "output_type": "execute_result",
          "data": {
            "text/plain": [
              "[<matplotlib.lines.Line2D at 0x7fb6205e4210>]"
            ]
          },
          "metadata": {},
          "execution_count": 23
        },
        {
          "output_type": "display_data",
          "data": {
            "text/plain": [
              "<Figure size 432x288 with 1 Axes>"
            ],
            "image/png": "[encoded data removed]"
          },
          "metadata": {
            "needs_background": "light"
          }
        }
      ]
    },
    {
      "cell_type": "markdown",
      "source": [
        "Научиться использовать библиотеку sklearn для построения парной линейной регрессии\n",
        "\n",
        "\n",
        "1.   Изучить официальную документацию библиотеки sklearn: http://scikit-learn.org/stable/modules/generated/sklearn.linear_model.LinearRegression.html\n",
        "2.   По примеру программы регрессии, рассмотренной на семинаре, построить модель регрессии с использованием библиотечных средств\n",
        "3. Сравнить результаты регрессии с использованием библиотечной функции и написанной самостоятельно.\n",
        "\n",
        "\n"
      ],
      "metadata": {
        "id": "jzTgd90JDGkz"
      }
    },
    {
      "cell_type": "code",
      "source": [
        "import matplotlib.pyplot as plt\n",
        "import numpy as np\n",
        "from sklearn import datasets, linear_model\n",
        "from sklearn.metrics import mean_squared_error, r2_score\n",
        "\n",
        "# Load the diabetes dataset\n",
        "diabetes_X, diabetes_y = datasets.load_diabetes(return_X_y=True)\n",
        "\n",
        "# Use only one feature\n",
        "diabetes_X = diabetes_X[:, np.newaxis, 2]\n",
        "\n",
        "# Split the data into training/testing sets\n",
        "diabetes_X_train = diabetes_X[:-20]\n",
        "diabetes_X_test = diabetes_X[-20:]\n",
        "\n",
        "# Split the targets into training/testing sets\n",
        "diabetes_y_train = diabetes_y[:-20]\n",
        "diabetes_y_test = diabetes_y[-20:]\n",
        "\n",
        "# Create linear regression object\n",
        "regr = linear_model.LinearRegression()\n",
        "\n",
        "# Train the model using the training sets\n",
        "\n",
        "\n",
        "\n",
        "# Make predictions using the testing set\n",
        "diabetes_y_pred = regr.predict(diabetes_X_test)\n",
        "\n",
        "# The coefficients\n",
        "print(\"Coefficients: \\n\", regr.coef_)\n",
        "# The mean squared error\n",
        "print(\"Mean squared error: %.2f\" % mean_squared_error(diabetes_y_test, diabetes_y_pred))\n",
        "# The coefficient of determination: 1 is perfect prediction\n",
        "print(\"Coefficient of determination: %.2f\" % r2_score(diabetes_y_test, diabetes_y_pred))\n",
        "\n",
        "# Plot outputs\n",
        "plt.scatter(diabetes_X_test, diabetes_y_test, color=\"black\")\n",
        "plt.plot(diabetes_X_test, diabetes_y_pred, color=\"blue\", linewidth=3)\n",
        "\n",
        "plt.xticks(())\n",
        "plt.yticks(())\n",
        "\n",
        "plt.show()"
      ],
      "metadata": {
        "colab": {
          "base_uri": "https://localhost:8080/",
          "height": 321
        },
        "id": "rIm6dKF1C__6",
        "outputId": "b5dd57e4-b790-4eea-82f1-07538c7818ba"
      },
      "execution_count": null,
      "outputs": [
        {
          "output_type": "stream",
          "name": "stdout",
          "text": [
            "Coefficients: \n",
            " [938.23786125]\n",
            "Mean squared error: 2548.07\n",
            "Coefficient of determination: 0.47\n"
          ]
        },
        {
          "output_type": "display_data",
          "data": {
            "text/plain": [
              "<Figure size 432x288 with 1 Axes>"
            ],
            "image/png": "[encoded data removed]"
          },
          "metadata": {}
        }
      ]
    }
  ]
}