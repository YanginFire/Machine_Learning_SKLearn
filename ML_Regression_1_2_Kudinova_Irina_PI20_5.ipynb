{
  "nbformat": 4,
  "nbformat_minor": 0,
  "metadata": {
    "colab": {
      "provenance": []
    },
    "kernelspec": {
      "name": "python3",
      "display_name": "Python 3"
    },
    "language_info": {
      "name": "python"
    }
  },
  "cells": [
    {
      "cell_type": "code",
      "execution_count": null,
      "metadata": {
        "id": "ILb-wj1_Drzl"
      },
      "outputs": [],
      "source": [
        "import numpy as np\n",
        "import pandas as pd\n",
        "from sklearn import linear_model"
      ]
    },
    {
      "cell_type": "markdown",
      "source": [
        "**Задание 2.**\n",
        "\n",
        "\n",
        "---\n",
        "\n",
        "\n",
        " Загрузите датасет из приложения. Вам понадобится два файла - отдельно с признаками (помечен x) и значениями целевой переменной (помечен y). Файлы не содержат заголовков столбцов и строк."
      ],
      "metadata": {
        "id": "gPn-FQyVE7yr"
      }
    },
    {
      "cell_type": "markdown",
      "source": [
        " Читаем данные с .csv с помощью pandas"
      ],
      "metadata": {
        "id": "AsqZIGTnLCO3"
      }
    },
    {
      "cell_type": "code",
      "source": [
        "X = pd.read_csv('https://raw.githubusercontent.com/koroteevmv/ML_course/main/ML1.2_regression/data/17_x.csv', names=['x1','x2','x3','x4','x5','x6','x7'])\n",
        "Y = pd.read_csv('https://raw.githubusercontent.com/koroteevmv/ML_course/main/ML1.2_regression/data/17_y.csv',  names=['y'])"
      ],
      "metadata": {
        "id": "pqeqBB2wEPrz"
      },
      "execution_count": null,
      "outputs": []
    },
    {
      "cell_type": "markdown",
      "source": [
        "Проверяем переименовались ли столбцы"
      ],
      "metadata": {
        "id": "mDje5wAyF6c0"
      }
    },
    {
      "cell_type": "code",
      "source": [
        "X"
      ],
      "metadata": {
        "colab": {
          "base_uri": "https://localhost:8080/",
          "height": 424
        },
        "id": "LRHJ9CL7Em7b",
        "outputId": "808bd8a1-42d2-4562-c8b3-817b8546300d"
      },
      "execution_count": null,
      "outputs": [
        {
          "output_type": "execute_result",
          "data": {
            "text/plain": [
              "           x1        x2        x3        x4        x5        x6        x7\n",
              "0   -1.361925  0.626942  1.296418  0.159414  0.214373 -1.133045  1.932950\n",
              "1   -0.063697  0.741201 -1.147903 -0.139082 -0.471392 -0.189430 -1.554224\n",
              "2    0.506897 -0.953144  1.516436 -0.880286 -1.317985  1.399281  0.663641\n",
              "3   -0.488549  0.203005  1.741708  0.930606 -2.411736  0.482606 -1.103487\n",
              "4    0.132410  0.571993 -0.154500  2.296943 -0.560369 -0.391521  1.745766\n",
              "..        ...       ...       ...       ...       ...       ...       ...\n",
              "283 -0.725322 -0.357324  0.863710 -0.322913 -1.274621  0.856446 -0.149595\n",
              "284 -0.292017  0.108973 -0.419605  0.575354  0.144567  0.655843  2.096669\n",
              "285 -1.087615  1.217706  0.698624 -0.059392  0.052883 -2.548074 -0.214123\n",
              "286 -1.061666  1.438184 -0.038938 -0.704457  0.373280  1.900606  0.246362\n",
              "287  0.907566 -0.106667 -0.010184  0.502691  0.011658  0.535870 -0.390326\n",
              "\n",
              "[288 rows x 7 columns]"
            ],
            "text/html": [
              "\n",
              "  <div id=\"df-8bff3399-50cd-4435-9576-da34874ab296\">\n",
              "    <div class=\"colab-df-container\">\n",
              "      <div>\n",
              "<style scoped>\n",
              "    .dataframe tbody tr th:only-of-type {\n",
              "        vertical-align: middle;\n",
              "    }\n",
              "\n",
              "    .dataframe tbody tr th {\n",
              "        vertical-align: top;\n",
              "    }\n",
              "\n",
              "    .dataframe thead th {\n",
              "        text-align: right;\n",
              "    }\n",
              "</style>\n",
              "<table border=\"1\" class=\"dataframe\">\n",
              "  <thead>\n",
              "    <tr style=\"text-align: right;\">\n",
              "      <th></th>\n",
              "      <th>x1</th>\n",
              "      <th>x2</th>\n",
              "      <th>x3</th>\n",
              "      <th>x4</th>\n",
              "      <th>x5</th>\n",
              "      <th>x6</th>\n",
              "      <th>x7</th>\n",
              "    </tr>\n",
              "  </thead>\n",
              "  <tbody>\n",
              "    <tr>\n",
              "      <th>0</th>\n",
              "      <td>-1.361925</td>\n",
              "      <td>0.626942</td>\n",
              "      <td>1.296418</td>\n",
              "      <td>0.159414</td>\n",
              "      <td>0.214373</td>\n",
              "      <td>-1.133045</td>\n",
              "      <td>1.932950</td>\n",
              "    </tr>\n",
              "    <tr>\n",
              "      <th>1</th>\n",
              "      <td>-0.063697</td>\n",
              "      <td>0.741201</td>\n",
              "      <td>-1.147903</td>\n",
              "      <td>-0.139082</td>\n",
              "      <td>-0.471392</td>\n",
              "      <td>-0.189430</td>\n",
              "      <td>-1.554224</td>\n",
              "    </tr>\n",
              "    <tr>\n",
              "      <th>2</th>\n",
              "      <td>0.506897</td>\n",
              "      <td>-0.953144</td>\n",
              "      <td>1.516436</td>\n",
              "      <td>-0.880286</td>\n",
              "      <td>-1.317985</td>\n",
              "      <td>1.399281</td>\n",
              "      <td>0.663641</td>\n",
              "    </tr>\n",
              "    <tr>\n",
              "      <th>3</th>\n",
              "      <td>-0.488549</td>\n",
              "      <td>0.203005</td>\n",
              "      <td>1.741708</td>\n",
              "      <td>0.930606</td>\n",
              "      <td>-2.411736</td>\n",
              "      <td>0.482606</td>\n",
              "      <td>-1.103487</td>\n",
              "    </tr>\n",
              "    <tr>\n",
              "      <th>4</th>\n",
              "      <td>0.132410</td>\n",
              "      <td>0.571993</td>\n",
              "      <td>-0.154500</td>\n",
              "      <td>2.296943</td>\n",
              "      <td>-0.560369</td>\n",
              "      <td>-0.391521</td>\n",
              "      <td>1.745766</td>\n",
              "    </tr>\n",
              "    <tr>\n",
              "      <th>...</th>\n",
              "      <td>...</td>\n",
              "      <td>...</td>\n",
              "      <td>...</td>\n",
              "      <td>...</td>\n",
              "      <td>...</td>\n",
              "      <td>...</td>\n",
              "      <td>...</td>\n",
              "    </tr>\n",
              "    <tr>\n",
              "      <th>283</th>\n",
              "      <td>-0.725322</td>\n",
              "      <td>-0.357324</td>\n",
              "      <td>0.863710</td>\n",
              "      <td>-0.322913</td>\n",
              "      <td>-1.274621</td>\n",
              "      <td>0.856446</td>\n",
              "      <td>-0.149595</td>\n",
              "    </tr>\n",
              "    <tr>\n",
              "      <th>284</th>\n",
              "      <td>-0.292017</td>\n",
              "      <td>0.108973</td>\n",
              "      <td>-0.419605</td>\n",
              "      <td>0.575354</td>\n",
              "      <td>0.144567</td>\n",
              "      <td>0.655843</td>\n",
              "      <td>2.096669</td>\n",
              "    </tr>\n",
              "    <tr>\n",
              "      <th>285</th>\n",
              "      <td>-1.087615</td>\n",
              "      <td>1.217706</td>\n",
              "      <td>0.698624</td>\n",
              "      <td>-0.059392</td>\n",
              "      <td>0.052883</td>\n",
              "      <td>-2.548074</td>\n",
              "      <td>-0.214123</td>\n",
              "    </tr>\n",
              "    <tr>\n",
              "      <th>286</th>\n",
              "      <td>-1.061666</td>\n",
              "      <td>1.438184</td>\n",
              "      <td>-0.038938</td>\n",
              "      <td>-0.704457</td>\n",
              "      <td>0.373280</td>\n",
              "      <td>1.900606</td>\n",
              "      <td>0.246362</td>\n",
              "    </tr>\n",
              "    <tr>\n",
              "      <th>287</th>\n",
              "      <td>0.907566</td>\n",
              "      <td>-0.106667</td>\n",
              "      <td>-0.010184</td>\n",
              "      <td>0.502691</td>\n",
              "      <td>0.011658</td>\n",
              "      <td>0.535870</td>\n",
              "      <td>-0.390326</td>\n",
              "    </tr>\n",
              "  </tbody>\n",
              "</table>\n",
              "<p>288 rows × 7 columns</p>\n",
              "</div>\n",
              "      <button class=\"colab-df-convert\" onclick=\"convertToInteractive('df-8bff3399-50cd-4435-9576-da34874ab296')\"\n",
              "              title=\"Convert this dataframe to an interactive table.\"\n",
              "              style=\"display:none;\">\n",
              "        \n",
              "  <svg xmlns=\"http://www.w3.org/2000/svg\" height=\"24px\"viewBox=\"0 0 24 24\"\n",
              "       width=\"24px\">\n",
              "    <path d=\"M0 0h24v24H0V0z\" fill=\"none\"/>\n",
              "    <path d=\"M18.56 5.44l.94 2.06.94-2.06 2.06-.94-2.06-.94-.94-2.06-.94 2.06-2.06.94zm-11 1L8.5 8.5l.94-2.06 2.06-.94-2.06-.94L8.5 2.5l-.94 2.06-2.06.94zm10 10l.94 2.06.94-2.06 2.06-.94-2.06-.94-.94-2.06-.94 2.06-2.06.94z\"/><path d=\"M17.41 7.96l-1.37-1.37c-.4-.4-.92-.59-1.43-.59-.52 0-1.04.2-1.43.59L10.3 9.45l-7.72 7.72c-.78.78-.78 2.05 0 2.83L4 21.41c.39.39.9.59 1.41.59.51 0 1.02-.2 1.41-.59l7.78-7.78 2.81-2.81c.8-.78.8-2.07 0-2.86zM5.41 20L4 18.59l7.72-7.72 1.47 1.35L5.41 20z\"/>\n",
              "  </svg>\n",
              "      </button>\n",
              "      \n",
              "  <style>\n",
              "    .colab-df-container {\n",
              "      display:flex;\n",
              "      flex-wrap:wrap;\n",
              "      gap: 12px;\n",
              "    }\n",
              "\n",
              "    .colab-df-convert {\n",
              "      background-color: #E8F0FE;\n",
              "      border: none;\n",
              "      border-radius: 50%;\n",
              "      cursor: pointer;\n",
              "      display: none;\n",
              "      fill: #1967D2;\n",
              "      height: 32px;\n",
              "      padding: 0 0 0 0;\n",
              "      width: 32px;\n",
              "    }\n",
              "\n",
              "    .colab-df-convert:hover {\n",
              "      background-color: #E2EBFA;\n",
              "      box-shadow: 0px 1px 2px rgba(60, 64, 67, 0.3), 0px 1px 3px 1px rgba(60, 64, 67, 0.15);\n",
              "      fill: #174EA6;\n",
              "    }\n",
              "\n",
              "    [theme=dark] .colab-df-convert {\n",
              "      background-color: #3B4455;\n",
              "      fill: #D2E3FC;\n",
              "    }\n",
              "\n",
              "    [theme=dark] .colab-df-convert:hover {\n",
              "      background-color: #434B5C;\n",
              "      box-shadow: 0px 1px 3px 1px rgba(0, 0, 0, 0.15);\n",
              "      filter: drop-shadow(0px 1px 2px rgba(0, 0, 0, 0.3));\n",
              "      fill: #FFFFFF;\n",
              "    }\n",
              "  </style>\n",
              "\n",
              "      <script>\n",
              "        const buttonEl =\n",
              "          document.querySelector('#df-8bff3399-50cd-4435-9576-da34874ab296 button.colab-df-convert');\n",
              "        buttonEl.style.display =\n",
              "          google.colab.kernel.accessAllowed ? 'block' : 'none';\n",
              "\n",
              "        async function convertToInteractive(key) {\n",
              "          const element = document.querySelector('#df-8bff3399-50cd-4435-9576-da34874ab296');\n",
              "          const dataTable =\n",
              "            await google.colab.kernel.invokeFunction('convertToInteractive',\n",
              "                                                     [key], {});\n",
              "          if (!dataTable) return;\n",
              "\n",
              "          const docLinkHtml = 'Like what you see? Visit the ' +\n",
              "            '<a target=\"_blank\" href=https://colab.research.google.com/notebooks/data_table.ipynb>data table notebook</a>'\n",
              "            + ' to learn more about interactive tables.';\n",
              "          element.innerHTML = '';\n",
              "          dataTable['output_type'] = 'display_data';\n",
              "          await google.colab.output.renderOutput(dataTable, element);\n",
              "          const docLink = document.createElement('div');\n",
              "          docLink.innerHTML = docLinkHtml;\n",
              "          element.appendChild(docLink);\n",
              "        }\n",
              "      </script>\n",
              "    </div>\n",
              "  </div>\n",
              "  "
            ]
          },
          "metadata": {},
          "execution_count": 4
        }
      ]
    },
    {
      "cell_type": "code",
      "source": [
        "Y"
      ],
      "metadata": {
        "colab": {
          "base_uri": "https://localhost:8080/",
          "height": 424
        },
        "id": "1IOqT6UGFYJz",
        "outputId": "e7e83212-e1e7-433f-dd9d-c8b9bdccb1ae"
      },
      "execution_count": null,
      "outputs": [
        {
          "output_type": "execute_result",
          "data": {
            "text/plain": [
              "              y\n",
              "0    -18.039039\n",
              "1    -31.599308\n",
              "2    -14.044437\n",
              "3     65.216886\n",
              "4    169.639517\n",
              "..          ...\n",
              "283  -58.437132\n",
              "284  -12.996557\n",
              "285  -22.661088\n",
              "286  -70.500816\n",
              "287  103.741994\n",
              "\n",
              "[288 rows x 1 columns]"
            ],
            "text/html": [
              "\n",
              "  <div id=\"df-234a2620-b82b-49cc-a5aa-3f28abbbeaf3\">\n",
              "    <div class=\"colab-df-container\">\n",
              "      <div>\n",
              "<style scoped>\n",
              "    .dataframe tbody tr th:only-of-type {\n",
              "        vertical-align: middle;\n",
              "    }\n",
              "\n",
              "    .dataframe tbody tr th {\n",
              "        vertical-align: top;\n",
              "    }\n",
              "\n",
              "    .dataframe thead th {\n",
              "        text-align: right;\n",
              "    }\n",
              "</style>\n",
              "<table border=\"1\" class=\"dataframe\">\n",
              "  <thead>\n",
              "    <tr style=\"text-align: right;\">\n",
              "      <th></th>\n",
              "      <th>y</th>\n",
              "    </tr>\n",
              "  </thead>\n",
              "  <tbody>\n",
              "    <tr>\n",
              "      <th>0</th>\n",
              "      <td>-18.039039</td>\n",
              "    </tr>\n",
              "    <tr>\n",
              "      <th>1</th>\n",
              "      <td>-31.599308</td>\n",
              "    </tr>\n",
              "    <tr>\n",
              "      <th>2</th>\n",
              "      <td>-14.044437</td>\n",
              "    </tr>\n",
              "    <tr>\n",
              "      <th>3</th>\n",
              "      <td>65.216886</td>\n",
              "    </tr>\n",
              "    <tr>\n",
              "      <th>4</th>\n",
              "      <td>169.639517</td>\n",
              "    </tr>\n",
              "    <tr>\n",
              "      <th>...</th>\n",
              "      <td>...</td>\n",
              "    </tr>\n",
              "    <tr>\n",
              "      <th>283</th>\n",
              "      <td>-58.437132</td>\n",
              "    </tr>\n",
              "    <tr>\n",
              "      <th>284</th>\n",
              "      <td>-12.996557</td>\n",
              "    </tr>\n",
              "    <tr>\n",
              "      <th>285</th>\n",
              "      <td>-22.661088</td>\n",
              "    </tr>\n",
              "    <tr>\n",
              "      <th>286</th>\n",
              "      <td>-70.500816</td>\n",
              "    </tr>\n",
              "    <tr>\n",
              "      <th>287</th>\n",
              "      <td>103.741994</td>\n",
              "    </tr>\n",
              "  </tbody>\n",
              "</table>\n",
              "<p>288 rows × 1 columns</p>\n",
              "</div>\n",
              "      <button class=\"colab-df-convert\" onclick=\"convertToInteractive('df-234a2620-b82b-49cc-a5aa-3f28abbbeaf3')\"\n",
              "              title=\"Convert this dataframe to an interactive table.\"\n",
              "              style=\"display:none;\">\n",
              "        \n",
              "  <svg xmlns=\"http://www.w3.org/2000/svg\" height=\"24px\"viewBox=\"0 0 24 24\"\n",
              "       width=\"24px\">\n",
              "    <path d=\"M0 0h24v24H0V0z\" fill=\"none\"/>\n",
              "    <path d=\"M18.56 5.44l.94 2.06.94-2.06 2.06-.94-2.06-.94-.94-2.06-.94 2.06-2.06.94zm-11 1L8.5 8.5l.94-2.06 2.06-.94-2.06-.94L8.5 2.5l-.94 2.06-2.06.94zm10 10l.94 2.06.94-2.06 2.06-.94-2.06-.94-.94-2.06-.94 2.06-2.06.94z\"/><path d=\"M17.41 7.96l-1.37-1.37c-.4-.4-.92-.59-1.43-.59-.52 0-1.04.2-1.43.59L10.3 9.45l-7.72 7.72c-.78.78-.78 2.05 0 2.83L4 21.41c.39.39.9.59 1.41.59.51 0 1.02-.2 1.41-.59l7.78-7.78 2.81-2.81c.8-.78.8-2.07 0-2.86zM5.41 20L4 18.59l7.72-7.72 1.47 1.35L5.41 20z\"/>\n",
              "  </svg>\n",
              "      </button>\n",
              "      \n",
              "  <style>\n",
              "    .colab-df-container {\n",
              "      display:flex;\n",
              "      flex-wrap:wrap;\n",
              "      gap: 12px;\n",
              "    }\n",
              "\n",
              "    .colab-df-convert {\n",
              "      background-color: #E8F0FE;\n",
              "      border: none;\n",
              "      border-radius: 50%;\n",
              "      cursor: pointer;\n",
              "      display: none;\n",
              "      fill: #1967D2;\n",
              "      height: 32px;\n",
              "      padding: 0 0 0 0;\n",
              "      width: 32px;\n",
              "    }\n",
              "\n",
              "    .colab-df-convert:hover {\n",
              "      background-color: #E2EBFA;\n",
              "      box-shadow: 0px 1px 2px rgba(60, 64, 67, 0.3), 0px 1px 3px 1px rgba(60, 64, 67, 0.15);\n",
              "      fill: #174EA6;\n",
              "    }\n",
              "\n",
              "    [theme=dark] .colab-df-convert {\n",
              "      background-color: #3B4455;\n",
              "      fill: #D2E3FC;\n",
              "    }\n",
              "\n",
              "    [theme=dark] .colab-df-convert:hover {\n",
              "      background-color: #434B5C;\n",
              "      box-shadow: 0px 1px 3px 1px rgba(0, 0, 0, 0.15);\n",
              "      filter: drop-shadow(0px 1px 2px rgba(0, 0, 0, 0.3));\n",
              "      fill: #FFFFFF;\n",
              "    }\n",
              "  </style>\n",
              "\n",
              "      <script>\n",
              "        const buttonEl =\n",
              "          document.querySelector('#df-234a2620-b82b-49cc-a5aa-3f28abbbeaf3 button.colab-df-convert');\n",
              "        buttonEl.style.display =\n",
              "          google.colab.kernel.accessAllowed ? 'block' : 'none';\n",
              "\n",
              "        async function convertToInteractive(key) {\n",
              "          const element = document.querySelector('#df-234a2620-b82b-49cc-a5aa-3f28abbbeaf3');\n",
              "          const dataTable =\n",
              "            await google.colab.kernel.invokeFunction('convertToInteractive',\n",
              "                                                     [key], {});\n",
              "          if (!dataTable) return;\n",
              "\n",
              "          const docLinkHtml = 'Like what you see? Visit the ' +\n",
              "            '<a target=\"_blank\" href=https://colab.research.google.com/notebooks/data_table.ipynb>data table notebook</a>'\n",
              "            + ' to learn more about interactive tables.';\n",
              "          element.innerHTML = '';\n",
              "          dataTable['output_type'] = 'display_data';\n",
              "          await google.colab.output.renderOutput(dataTable, element);\n",
              "          const docLink = document.createElement('div');\n",
              "          docLink.innerHTML = docLinkHtml;\n",
              "          element.appendChild(docLink);\n",
              "        }\n",
              "      </script>\n",
              "    </div>\n",
              "  </div>\n",
              "  "
            ]
          },
          "metadata": {},
          "execution_count": 5
        }
      ]
    },
    {
      "cell_type": "markdown",
      "source": [
        "**Задание 3.**\n",
        "\n",
        "\n",
        "---\n",
        "\n",
        "\n",
        " Сделайте количественное описание датасета: количество точек данных, признаков, статистику по каждому признаку."
      ],
      "metadata": {
        "id": "EclK052vGh57"
      }
    },
    {
      "cell_type": "code",
      "source": [
        "# Количество точек данных X\n",
        "X.shape"
      ],
      "metadata": {
        "colab": {
          "base_uri": "https://localhost:8080/"
        },
        "id": "J9ecUkRMFZ-H",
        "outputId": "3299cc20-2799-49a2-e385-426304ad38e5"
      },
      "execution_count": null,
      "outputs": [
        {
          "output_type": "execute_result",
          "data": {
            "text/plain": [
              "(288, 7)"
            ]
          },
          "metadata": {},
          "execution_count": 6
        }
      ]
    },
    {
      "cell_type": "code",
      "source": [
        "# Статистика по X\n",
        "X.describe()"
      ],
      "metadata": {
        "colab": {
          "base_uri": "https://localhost:8080/",
          "height": 300
        },
        "id": "LHLyFhifHEgv",
        "outputId": "8fc30970-6388-4882-ff7f-459dcb35f01c"
      },
      "execution_count": null,
      "outputs": [
        {
          "output_type": "execute_result",
          "data": {
            "text/plain": [
              "               x1          x2          x3          x4          x5          x6  \\\n",
              "count  288.000000  288.000000  288.000000  288.000000  288.000000  288.000000   \n",
              "mean    -0.022215    0.058786    0.004756    0.072112   -0.082758    0.018736   \n",
              "std      1.042067    0.928761    1.023841    1.011381    0.980429    0.989958   \n",
              "min     -2.995465   -2.348600   -2.559418   -2.855582   -3.560949   -2.548074   \n",
              "25%     -0.736631   -0.577700   -0.725343   -0.619260   -0.733627   -0.676742   \n",
              "50%     -0.018954   -0.029057   -0.016260    0.078540    0.006632   -0.002273   \n",
              "75%      0.658540    0.703024    0.702230    0.694714    0.544160    0.701654   \n",
              "max      3.056743    2.846660    2.810431    3.538405    2.566453    3.182432   \n",
              "\n",
              "               x7  \n",
              "count  288.000000  \n",
              "mean    -0.017210  \n",
              "std      1.000718  \n",
              "min     -2.519880  \n",
              "25%     -0.715841  \n",
              "50%     -0.106052  \n",
              "75%      0.730286  \n",
              "max      2.431993  "
            ],
            "text/html": [
              "\n",
              "  <div id=\"df-396f04c5-f707-42de-a71f-f75eec88ab4e\">\n",
              "    <div class=\"colab-df-container\">\n",
              "      <div>\n",
              "<style scoped>\n",
              "    .dataframe tbody tr th:only-of-type {\n",
              "        vertical-align: middle;\n",
              "    }\n",
              "\n",
              "    .dataframe tbody tr th {\n",
              "        vertical-align: top;\n",
              "    }\n",
              "\n",
              "    .dataframe thead th {\n",
              "        text-align: right;\n",
              "    }\n",
              "</style>\n",
              "<table border=\"1\" class=\"dataframe\">\n",
              "  <thead>\n",
              "    <tr style=\"text-align: right;\">\n",
              "      <th></th>\n",
              "      <th>x1</th>\n",
              "      <th>x2</th>\n",
              "      <th>x3</th>\n",
              "      <th>x4</th>\n",
              "      <th>x5</th>\n",
              "      <th>x6</th>\n",
              "      <th>x7</th>\n",
              "    </tr>\n",
              "  </thead>\n",
              "  <tbody>\n",
              "    <tr>\n",
              "      <th>count</th>\n",
              "      <td>288.000000</td>\n",
              "      <td>288.000000</td>\n",
              "      <td>288.000000</td>\n",
              "      <td>288.000000</td>\n",
              "      <td>288.000000</td>\n",
              "      <td>288.000000</td>\n",
              "      <td>288.000000</td>\n",
              "    </tr>\n",
              "    <tr>\n",
              "      <th>mean</th>\n",
              "      <td>-0.022215</td>\n",
              "      <td>0.058786</td>\n",
              "      <td>0.004756</td>\n",
              "      <td>0.072112</td>\n",
              "      <td>-0.082758</td>\n",
              "      <td>0.018736</td>\n",
              "      <td>-0.017210</td>\n",
              "    </tr>\n",
              "    <tr>\n",
              "      <th>std</th>\n",
              "      <td>1.042067</td>\n",
              "      <td>0.928761</td>\n",
              "      <td>1.023841</td>\n",
              "      <td>1.011381</td>\n",
              "      <td>0.980429</td>\n",
              "      <td>0.989958</td>\n",
              "      <td>1.000718</td>\n",
              "    </tr>\n",
              "    <tr>\n",
              "      <th>min</th>\n",
              "      <td>-2.995465</td>\n",
              "      <td>-2.348600</td>\n",
              "      <td>-2.559418</td>\n",
              "      <td>-2.855582</td>\n",
              "      <td>-3.560949</td>\n",
              "      <td>-2.548074</td>\n",
              "      <td>-2.519880</td>\n",
              "    </tr>\n",
              "    <tr>\n",
              "      <th>25%</th>\n",
              "      <td>-0.736631</td>\n",
              "      <td>-0.577700</td>\n",
              "      <td>-0.725343</td>\n",
              "      <td>-0.619260</td>\n",
              "      <td>-0.733627</td>\n",
              "      <td>-0.676742</td>\n",
              "      <td>-0.715841</td>\n",
              "    </tr>\n",
              "    <tr>\n",
              "      <th>50%</th>\n",
              "      <td>-0.018954</td>\n",
              "      <td>-0.029057</td>\n",
              "      <td>-0.016260</td>\n",
              "      <td>0.078540</td>\n",
              "      <td>0.006632</td>\n",
              "      <td>-0.002273</td>\n",
              "      <td>-0.106052</td>\n",
              "    </tr>\n",
              "    <tr>\n",
              "      <th>75%</th>\n",
              "      <td>0.658540</td>\n",
              "      <td>0.703024</td>\n",
              "      <td>0.702230</td>\n",
              "      <td>0.694714</td>\n",
              "      <td>0.544160</td>\n",
              "      <td>0.701654</td>\n",
              "      <td>0.730286</td>\n",
              "    </tr>\n",
              "    <tr>\n",
              "      <th>max</th>\n",
              "      <td>3.056743</td>\n",
              "      <td>2.846660</td>\n",
              "      <td>2.810431</td>\n",
              "      <td>3.538405</td>\n",
              "      <td>2.566453</td>\n",
              "      <td>3.182432</td>\n",
              "      <td>2.431993</td>\n",
              "    </tr>\n",
              "  </tbody>\n",
              "</table>\n",
              "</div>\n",
              "      <button class=\"colab-df-convert\" onclick=\"convertToInteractive('df-396f04c5-f707-42de-a71f-f75eec88ab4e')\"\n",
              "              title=\"Convert this dataframe to an interactive table.\"\n",
              "              style=\"display:none;\">\n",
              "        \n",
              "  <svg xmlns=\"http://www.w3.org/2000/svg\" height=\"24px\"viewBox=\"0 0 24 24\"\n",
              "       width=\"24px\">\n",
              "    <path d=\"M0 0h24v24H0V0z\" fill=\"none\"/>\n",
              "    <path d=\"M18.56 5.44l.94 2.06.94-2.06 2.06-.94-2.06-.94-.94-2.06-.94 2.06-2.06.94zm-11 1L8.5 8.5l.94-2.06 2.06-.94-2.06-.94L8.5 2.5l-.94 2.06-2.06.94zm10 10l.94 2.06.94-2.06 2.06-.94-2.06-.94-.94-2.06-.94 2.06-2.06.94z\"/><path d=\"M17.41 7.96l-1.37-1.37c-.4-.4-.92-.59-1.43-.59-.52 0-1.04.2-1.43.59L10.3 9.45l-7.72 7.72c-.78.78-.78 2.05 0 2.83L4 21.41c.39.39.9.59 1.41.59.51 0 1.02-.2 1.41-.59l7.78-7.78 2.81-2.81c.8-.78.8-2.07 0-2.86zM5.41 20L4 18.59l7.72-7.72 1.47 1.35L5.41 20z\"/>\n",
              "  </svg>\n",
              "      </button>\n",
              "      \n",
              "  <style>\n",
              "    .colab-df-container {\n",
              "      display:flex;\n",
              "      flex-wrap:wrap;\n",
              "      gap: 12px;\n",
              "    }\n",
              "\n",
              "    .colab-df-convert {\n",
              "      background-color: #E8F0FE;\n",
              "      border: none;\n",
              "      border-radius: 50%;\n",
              "      cursor: pointer;\n",
              "      display: none;\n",
              "      fill: #1967D2;\n",
              "      height: 32px;\n",
              "      padding: 0 0 0 0;\n",
              "      width: 32px;\n",
              "    }\n",
              "\n",
              "    .colab-df-convert:hover {\n",
              "      background-color: #E2EBFA;\n",
              "      box-shadow: 0px 1px 2px rgba(60, 64, 67, 0.3), 0px 1px 3px 1px rgba(60, 64, 67, 0.15);\n",
              "      fill: #174EA6;\n",
              "    }\n",
              "\n",
              "    [theme=dark] .colab-df-convert {\n",
              "      background-color: #3B4455;\n",
              "      fill: #D2E3FC;\n",
              "    }\n",
              "\n",
              "    [theme=dark] .colab-df-convert:hover {\n",
              "      background-color: #434B5C;\n",
              "      box-shadow: 0px 1px 3px 1px rgba(0, 0, 0, 0.15);\n",
              "      filter: drop-shadow(0px 1px 2px rgba(0, 0, 0, 0.3));\n",
              "      fill: #FFFFFF;\n",
              "    }\n",
              "  </style>\n",
              "\n",
              "      <script>\n",
              "        const buttonEl =\n",
              "          document.querySelector('#df-396f04c5-f707-42de-a71f-f75eec88ab4e button.colab-df-convert');\n",
              "        buttonEl.style.display =\n",
              "          google.colab.kernel.accessAllowed ? 'block' : 'none';\n",
              "\n",
              "        async function convertToInteractive(key) {\n",
              "          const element = document.querySelector('#df-396f04c5-f707-42de-a71f-f75eec88ab4e');\n",
              "          const dataTable =\n",
              "            await google.colab.kernel.invokeFunction('convertToInteractive',\n",
              "                                                     [key], {});\n",
              "          if (!dataTable) return;\n",
              "\n",
              "          const docLinkHtml = 'Like what you see? Visit the ' +\n",
              "            '<a target=\"_blank\" href=https://colab.research.google.com/notebooks/data_table.ipynb>data table notebook</a>'\n",
              "            + ' to learn more about interactive tables.';\n",
              "          element.innerHTML = '';\n",
              "          dataTable['output_type'] = 'display_data';\n",
              "          await google.colab.output.renderOutput(dataTable, element);\n",
              "          const docLink = document.createElement('div');\n",
              "          docLink.innerHTML = docLinkHtml;\n",
              "          element.appendChild(docLink);\n",
              "        }\n",
              "      </script>\n",
              "    </div>\n",
              "  </div>\n",
              "  "
            ]
          },
          "metadata": {},
          "execution_count": 7
        }
      ]
    },
    {
      "cell_type": "code",
      "source": [
        "# Количество точек данных Y\n",
        "Y.shape"
      ],
      "metadata": {
        "colab": {
          "base_uri": "https://localhost:8080/"
        },
        "id": "VYBD4IehHNc6",
        "outputId": "9be7dc3b-5fb8-4e5f-fe94-22708e10ee69"
      },
      "execution_count": null,
      "outputs": [
        {
          "output_type": "execute_result",
          "data": {
            "text/plain": [
              "(288, 1)"
            ]
          },
          "metadata": {},
          "execution_count": 8
        }
      ]
    },
    {
      "cell_type": "code",
      "source": [
        "# Статистика по Y\n",
        "Y.describe()"
      ],
      "metadata": {
        "colab": {
          "base_uri": "https://localhost:8080/",
          "height": 300
        },
        "id": "xgIpUovUHaMk",
        "outputId": "ddd9603e-46db-4b04-f1de-ec4316170767"
      },
      "execution_count": null,
      "outputs": [
        {
          "output_type": "execute_result",
          "data": {
            "text/plain": [
              "                y\n",
              "count  288.000000\n",
              "mean     4.751921\n",
              "std    122.447676\n",
              "min   -330.635696\n",
              "25%    -87.981006\n",
              "50%      4.239885\n",
              "75%     81.094654\n",
              "max    365.048225"
            ],
            "text/html": [
              "\n",
              "  <div id=\"df-d2369914-4a6c-4a23-9e2f-a3192a341d0f\">\n",
              "    <div class=\"colab-df-container\">\n",
              "      <div>\n",
              "<style scoped>\n",
              "    .dataframe tbody tr th:only-of-type {\n",
              "        vertical-align: middle;\n",
              "    }\n",
              "\n",
              "    .dataframe tbody tr th {\n",
              "        vertical-align: top;\n",
              "    }\n",
              "\n",
              "    .dataframe thead th {\n",
              "        text-align: right;\n",
              "    }\n",
              "</style>\n",
              "<table border=\"1\" class=\"dataframe\">\n",
              "  <thead>\n",
              "    <tr style=\"text-align: right;\">\n",
              "      <th></th>\n",
              "      <th>y</th>\n",
              "    </tr>\n",
              "  </thead>\n",
              "  <tbody>\n",
              "    <tr>\n",
              "      <th>count</th>\n",
              "      <td>288.000000</td>\n",
              "    </tr>\n",
              "    <tr>\n",
              "      <th>mean</th>\n",
              "      <td>4.751921</td>\n",
              "    </tr>\n",
              "    <tr>\n",
              "      <th>std</th>\n",
              "      <td>122.447676</td>\n",
              "    </tr>\n",
              "    <tr>\n",
              "      <th>min</th>\n",
              "      <td>-330.635696</td>\n",
              "    </tr>\n",
              "    <tr>\n",
              "      <th>25%</th>\n",
              "      <td>-87.981006</td>\n",
              "    </tr>\n",
              "    <tr>\n",
              "      <th>50%</th>\n",
              "      <td>4.239885</td>\n",
              "    </tr>\n",
              "    <tr>\n",
              "      <th>75%</th>\n",
              "      <td>81.094654</td>\n",
              "    </tr>\n",
              "    <tr>\n",
              "      <th>max</th>\n",
              "      <td>365.048225</td>\n",
              "    </tr>\n",
              "  </tbody>\n",
              "</table>\n",
              "</div>\n",
              "      <button class=\"colab-df-convert\" onclick=\"convertToInteractive('df-d2369914-4a6c-4a23-9e2f-a3192a341d0f')\"\n",
              "              title=\"Convert this dataframe to an interactive table.\"\n",
              "              style=\"display:none;\">\n",
              "        \n",
              "  <svg xmlns=\"http://www.w3.org/2000/svg\" height=\"24px\"viewBox=\"0 0 24 24\"\n",
              "       width=\"24px\">\n",
              "    <path d=\"M0 0h24v24H0V0z\" fill=\"none\"/>\n",
              "    <path d=\"M18.56 5.44l.94 2.06.94-2.06 2.06-.94-2.06-.94-.94-2.06-.94 2.06-2.06.94zm-11 1L8.5 8.5l.94-2.06 2.06-.94-2.06-.94L8.5 2.5l-.94 2.06-2.06.94zm10 10l.94 2.06.94-2.06 2.06-.94-2.06-.94-.94-2.06-.94 2.06-2.06.94z\"/><path d=\"M17.41 7.96l-1.37-1.37c-.4-.4-.92-.59-1.43-.59-.52 0-1.04.2-1.43.59L10.3 9.45l-7.72 7.72c-.78.78-.78 2.05 0 2.83L4 21.41c.39.39.9.59 1.41.59.51 0 1.02-.2 1.41-.59l7.78-7.78 2.81-2.81c.8-.78.8-2.07 0-2.86zM5.41 20L4 18.59l7.72-7.72 1.47 1.35L5.41 20z\"/>\n",
              "  </svg>\n",
              "      </button>\n",
              "      \n",
              "  <style>\n",
              "    .colab-df-container {\n",
              "      display:flex;\n",
              "      flex-wrap:wrap;\n",
              "      gap: 12px;\n",
              "    }\n",
              "\n",
              "    .colab-df-convert {\n",
              "      background-color: #E8F0FE;\n",
              "      border: none;\n",
              "      border-radius: 50%;\n",
              "      cursor: pointer;\n",
              "      display: none;\n",
              "      fill: #1967D2;\n",
              "      height: 32px;\n",
              "      padding: 0 0 0 0;\n",
              "      width: 32px;\n",
              "    }\n",
              "\n",
              "    .colab-df-convert:hover {\n",
              "      background-color: #E2EBFA;\n",
              "      box-shadow: 0px 1px 2px rgba(60, 64, 67, 0.3), 0px 1px 3px 1px rgba(60, 64, 67, 0.15);\n",
              "      fill: #174EA6;\n",
              "    }\n",
              "\n",
              "    [theme=dark] .colab-df-convert {\n",
              "      background-color: #3B4455;\n",
              "      fill: #D2E3FC;\n",
              "    }\n",
              "\n",
              "    [theme=dark] .colab-df-convert:hover {\n",
              "      background-color: #434B5C;\n",
              "      box-shadow: 0px 1px 3px 1px rgba(0, 0, 0, 0.15);\n",
              "      filter: drop-shadow(0px 1px 2px rgba(0, 0, 0, 0.3));\n",
              "      fill: #FFFFFF;\n",
              "    }\n",
              "  </style>\n",
              "\n",
              "      <script>\n",
              "        const buttonEl =\n",
              "          document.querySelector('#df-d2369914-4a6c-4a23-9e2f-a3192a341d0f button.colab-df-convert');\n",
              "        buttonEl.style.display =\n",
              "          google.colab.kernel.accessAllowed ? 'block' : 'none';\n",
              "\n",
              "        async function convertToInteractive(key) {\n",
              "          const element = document.querySelector('#df-d2369914-4a6c-4a23-9e2f-a3192a341d0f');\n",
              "          const dataTable =\n",
              "            await google.colab.kernel.invokeFunction('convertToInteractive',\n",
              "                                                     [key], {});\n",
              "          if (!dataTable) return;\n",
              "\n",
              "          const docLinkHtml = 'Like what you see? Visit the ' +\n",
              "            '<a target=\"_blank\" href=https://colab.research.google.com/notebooks/data_table.ipynb>data table notebook</a>'\n",
              "            + ' to learn more about interactive tables.';\n",
              "          element.innerHTML = '';\n",
              "          dataTable['output_type'] = 'display_data';\n",
              "          await google.colab.output.renderOutput(dataTable, element);\n",
              "          const docLink = document.createElement('div');\n",
              "          docLink.innerHTML = docLinkHtml;\n",
              "          element.appendChild(docLink);\n",
              "        }\n",
              "      </script>\n",
              "    </div>\n",
              "  </div>\n",
              "  "
            ]
          },
          "metadata": {},
          "execution_count": 9
        }
      ]
    },
    {
      "cell_type": "markdown",
      "source": [
        "**Задание 4.**\n",
        "\n",
        "\n",
        "---\n",
        "\n",
        "\n",
        " Разделите все наблюдения на обучающую и тестовую выборки в соотношении 80-20."
      ],
      "metadata": {
        "id": "AY3yxMMTHt_0"
      }
    },
    {
      "cell_type": "markdown",
      "source": [
        "Разделяет данные на рандомные train(обучабщие) и test(тестовые) сабсеты."
      ],
      "metadata": {
        "id": "4xs1EtJGI2ad"
      }
    },
    {
      "cell_type": "code",
      "source": [
        "from sklearn.model_selection import train_test_split"
      ],
      "metadata": {
        "id": "gvLri0cZHi-7"
      },
      "execution_count": null,
      "outputs": []
    },
    {
      "cell_type": "code",
      "source": [
        "# test size - парамаетр который определяет размер тестового сабсета\n",
        "# train_test_split - берет значения из датасетов X и Y\n",
        "\n",
        "x_train, x_test, y_train, y_test = train_test_split(X,Y,test_size=0.2)"
      ],
      "metadata": {
        "id": "GVo7qH5yIyHd"
      },
      "execution_count": null,
      "outputs": []
    },
    {
      "cell_type": "markdown",
      "source": [
        "Проверяем корректность размеров обучающего и тестового сабсетов"
      ],
      "metadata": {
        "id": "yecrxnchJ4S1"
      }
    },
    {
      "cell_type": "code",
      "source": [
        "print(\"shape of input - training set\", x_train.shape)\n",
        "print(\"shape of output - training set\", y_train.shape)\n",
        "print(\"shape of input - testing set\", x_test.shape)\n",
        "print(\"shape of output - testing set\", y_test.shape)"
      ],
      "metadata": {
        "colab": {
          "base_uri": "https://localhost:8080/"
        },
        "id": "m49qiQZVJzXv",
        "outputId": "d64ba7ae-763e-4c88-de39-5decf434a8b4"
      },
      "execution_count": null,
      "outputs": [
        {
          "output_type": "stream",
          "name": "stdout",
          "text": [
            "shape of input - training set (230, 7)\n",
            "shape of output - training set (230, 1)\n",
            "shape of input - testing set (58, 7)\n",
            "shape of output - testing set (58, 1)\n"
          ]
        }
      ]
    },
    {
      "cell_type": "markdown",
      "source": [
        "Вывод: Разделение на сабсеты прошло верно в соотношении 80 к 20 "
      ],
      "metadata": {
        "id": "EukVHKGIKDIO"
      }
    },
    {
      "cell_type": "markdown",
      "source": [
        "**Задание 5.**\n",
        "\n",
        "\n",
        "---\n",
        "\n",
        "\n",
        " Для целевой и каждого из признаков постройте парную регрессионную модель. \n",
        "\n",
        "Визуализируйте линию регрессии и исходные данные на графике. При помощи коэффициентов оцените силу связи."
      ],
      "metadata": {
        "id": "ernJOHTXKM51"
      }
    },
    {
      "cell_type": "markdown",
      "source": [
        "***Примечание для себя:***\n",
        "\n",
        "Признаки - X1, X2, X3...\n",
        "\n",
        "\n",
        "---\n",
        "\n",
        "\n",
        "Целевая переменная - Y"
      ],
      "metadata": {
        "id": "cVAsXMAWLaD9"
      }
    },
    {
      "cell_type": "markdown",
      "source": [
        "Для построения парной регрессионной модели нам понадобится LinearRegression"
      ],
      "metadata": {
        "id": "yJuCUpaqKfDG"
      }
    },
    {
      "cell_type": "code",
      "source": [
        "from sklearn.linear_model import LinearRegression\n",
        "import matplotlib.pyplot as plt"
      ],
      "metadata": {
        "id": "glj-VOq5Kp8m"
      },
      "execution_count": null,
      "outputs": []
    },
    {
      "cell_type": "code",
      "source": [
        "def r_2_score(column_name : str) -> None:\n",
        "    \n",
        "    #Модель линейной регрессии\n",
        "    y = LinearRegression().fit(x_train[[column_name]].values, y_train.values)\n",
        "    #Прогнозируем значения\n",
        "    y_res = y.predict(x_test[[column_name]].values)\n",
        "    \n",
        "    #Строим точки значений на графике \n",
        "    plt.scatter(x_test[[column_name]].values, y_test.values, color='b')\n",
        "    #Строим линию регрессии\n",
        "    plt.plot(x_test[[column_name]].values, y_res, color='r', linewidth=2)\n",
        "    #Высчитываем показатель R2\n",
        "    r_2 = y.score(x_test[[column_name]].values,  y_test.values)\n",
        "    \n",
        "    ##!! Чем ближе R^2 к 1, тем сильнее связь и модель адекватнее\n",
        "    print(f\"R^2 score: {r_2}\")"
      ],
      "metadata": {
        "id": "8arIYw0qgqPd"
      },
      "execution_count": null,
      "outputs": []
    },
    {
      "cell_type": "code",
      "source": [
        "r_2_score(\"x1\")"
      ],
      "metadata": {
        "colab": {
          "base_uri": "https://localhost:8080/",
          "height": 282
        },
        "id": "ygq_3fnIgtKY",
        "outputId": "81f8b5c5-ac35-42f6-e413-58c2742203f1"
      },
      "execution_count": null,
      "outputs": [
        {
          "output_type": "stream",
          "name": "stdout",
          "text": [
            "R^2 score: 0.4587485620721776\n"
          ]
        },
        {
          "output_type": "display_data",
          "data": {
            "text/plain": [
              "<Figure size 432x288 with 1 Axes>"
            ],
            "image/png": "[encoded data removed]"
          },
          "metadata": {
            "needs_background": "light"
          }
        }
      ]
    },
    {
      "cell_type": "code",
      "source": [
        "r_2_score(\"x2\")"
      ],
      "metadata": {
        "colab": {
          "base_uri": "https://localhost:8080/",
          "height": 282
        },
        "id": "KRm_yr91hIy9",
        "outputId": "ab141abf-61bf-4f14-b1f5-9467c25103d0"
      },
      "execution_count": null,
      "outputs": [
        {
          "output_type": "stream",
          "name": "stdout",
          "text": [
            "R^2 score: 0.11294689685609616\n"
          ]
        },
        {
          "output_type": "display_data",
          "data": {
            "text/plain": [
              "<Figure size 432x288 with 1 Axes>"
            ],
            "image/png": "[encoded data removed]"
          },
          "metadata": {
            "needs_background": "light"
          }
        }
      ]
    },
    {
      "cell_type": "code",
      "source": [
        "r_2_score(\"x3\")"
      ],
      "metadata": {
        "colab": {
          "base_uri": "https://localhost:8080/",
          "height": 282
        },
        "id": "BSmuW_gBhL9W",
        "outputId": "d6a8a697-c303-4212-8c5b-e359dc6e2c54"
      },
      "execution_count": null,
      "outputs": [
        {
          "output_type": "stream",
          "name": "stdout",
          "text": [
            "R^2 score: 0.11307334923819412\n"
          ]
        },
        {
          "output_type": "display_data",
          "data": {
            "text/plain": [
              "<Figure size 432x288 with 1 Axes>"
            ],
            "image/png": "[encoded data removed]"
          },
          "metadata": {
            "needs_background": "light"
          }
        }
      ]
    },
    {
      "cell_type": "code",
      "source": [
        "r_2_score(\"x4\")"
      ],
      "metadata": {
        "colab": {
          "base_uri": "https://localhost:8080/",
          "height": 282
        },
        "id": "3V_23cZahNqF",
        "outputId": "f0233c3a-cf28-4674-ae91-585d62bc8411"
      },
      "execution_count": null,
      "outputs": [
        {
          "output_type": "stream",
          "name": "stdout",
          "text": [
            "R^2 score: 0.3178436424866037\n"
          ]
        },
        {
          "output_type": "display_data",
          "data": {
            "text/plain": [
              "<Figure size 432x288 with 1 Axes>"
            ],
            "image/png": "[encoded data removed]"
          },
          "metadata": {
            "needs_background": "light"
          }
        }
      ]
    },
    {
      "cell_type": "code",
      "source": [
        "r_2_score(\"x5\")"
      ],
      "metadata": {
        "colab": {
          "base_uri": "https://localhost:8080/",
          "height": 282
        },
        "id": "3tHO4UpOhPA_",
        "outputId": "000d3d4d-693f-45e5-c774-6b79ec365c57"
      },
      "execution_count": null,
      "outputs": [
        {
          "output_type": "stream",
          "name": "stdout",
          "text": [
            "R^2 score: 0.005253168609994918\n"
          ]
        },
        {
          "output_type": "display_data",
          "data": {
            "text/plain": [
              "<Figure size 432x288 with 1 Axes>"
            ],
            "image/png": "[encoded data removed]"
          },
          "metadata": {
            "needs_background": "light"
          }
        }
      ]
    },
    {
      "cell_type": "code",
      "source": [
        "r_2_score(\"x6\")"
      ],
      "metadata": {
        "colab": {
          "base_uri": "https://localhost:8080/",
          "height": 282
        },
        "id": "XOXELpA4hQY7",
        "outputId": "8d89dc1c-8bea-4038-9241-754221897da0"
      },
      "execution_count": null,
      "outputs": [
        {
          "output_type": "stream",
          "name": "stdout",
          "text": [
            "R^2 score: -0.011826043845638345\n"
          ]
        },
        {
          "output_type": "display_data",
          "data": {
            "text/plain": [
              "<Figure size 432x288 with 1 Axes>"
            ],
            "image/png": "[encoded data removed]"
          },
          "metadata": {
            "needs_background": "light"
          }
        }
      ]
    },
    {
      "cell_type": "code",
      "source": [
        "r_2_score(\"x7\")"
      ],
      "metadata": {
        "colab": {
          "base_uri": "https://localhost:8080/",
          "height": 282
        },
        "id": "Eu7fznWAhR9E",
        "outputId": "d97143f2-9c2e-41ef-a29d-0324cc21cf7b"
      },
      "execution_count": null,
      "outputs": [
        {
          "output_type": "stream",
          "name": "stdout",
          "text": [
            "R^2 score: 0.012161709605981508\n"
          ]
        },
        {
          "output_type": "display_data",
          "data": {
            "text/plain": [
              "<Figure size 432x288 with 1 Axes>"
            ],
            "image/png": "[encoded data removed]"
          },
          "metadata": {
            "needs_background": "light"
          }
        }
      ]
    },
    {
      "cell_type": "markdown",
      "source": [
        "**Вывод:** У признаков Х1 (R^2 = 0.5650790686471812 ) и Х4 (R^2 = 0.\n",
        "2548982046406003 ), хотя бы есть связь\n",
        "\n",
        "Остальные признаки по R^2 score меньше нуля что показывает что модель не адекватна"
      ],
      "metadata": {
        "id": "WOKdg7s3hino"
      }
    },
    {
      "cell_type": "markdown",
      "source": [
        "**Задание 6.**\n",
        "\n",
        "\n",
        "---\n",
        "\n",
        "\n",
        " Постройте модель множественной линейной регрессии целевой переменной от всех показателей. Оцените качество регрессии, сделайте вывод."
      ],
      "metadata": {
        "id": "e4wPsVVzKw7u"
      }
    },
    {
      "cell_type": "markdown",
      "source": [
        "Создаем регрессионную модель с помощью функции **OLS().** Затем мы передаем независимые и зависимые переменные в эту функцию и подгоняем эту модель с помощью функции **fit()**."
      ],
      "metadata": {
        "id": "MPWPNNQ0oicm"
      }
    },
    {
      "cell_type": "code",
      "source": [
        "import statsmodels.formula.api as sm"
      ],
      "metadata": {
        "id": "8c7ZAre_LIL2"
      },
      "execution_count": null,
      "outputs": []
    },
    {
      "cell_type": "code",
      "source": [
        "data = pd.DataFrame(np.array(x_train[['x1', 'x2', 'x3', 'x4', 'x5', 'x6', 'x7']]), \n",
        "                            columns=['x1', 'x2', 'x3', 'x4', 'x5', 'x6', 'x7'])\n",
        "data['y'] = np.array(y_train)\n",
        "cols = data.columns.tolist()\n",
        "cols = cols[-1:] + cols[:-1]\n",
        "data = data[cols]\n",
        "\n",
        "model = sm.ols(formula='y~x1+x2+x3+x4+x5+x6+x7', data=data)\n",
        "fitted = model.fit()\n",
        "fitted.summary()"
      ],
      "metadata": {
        "colab": {
          "base_uri": "https://localhost:8080/",
          "height": 569
        },
        "id": "kjvUT9pNjm81",
        "outputId": "bc4043cf-4e44-48a9-ac28-67d0f89fe524"
      },
      "execution_count": null,
      "outputs": [
        {
          "output_type": "execute_result",
          "data": {
            "text/plain": [
              "<class 'statsmodels.iolib.summary.Summary'>\n",
              "\"\"\"\n",
              "                            OLS Regression Results                            \n",
              "==============================================================================\n",
              "Dep. Variable:                      y   R-squared:                       0.993\n",
              "Model:                            OLS   Adj. R-squared:                  0.993\n",
              "Method:                 Least Squares   F-statistic:                     4608.\n",
              "Date:                Tue, 25 Oct 2022   Prob (F-statistic):          1.82e-236\n",
              "Time:                        08:58:35   Log-Likelihood:                -857.52\n",
              "No. Observations:                 230   AIC:                             1731.\n",
              "Df Residuals:                     222   BIC:                             1759.\n",
              "Df Model:                           7                                         \n",
              "Covariance Type:            nonrobust                                         \n",
              "==============================================================================\n",
              "                 coef    std err          t      P>|t|      [0.025      0.975]\n",
              "------------------------------------------------------------------------------\n",
              "Intercept     -0.4262      0.680     -0.626      0.532      -1.767       0.915\n",
              "x1            86.8449      0.654    132.783      0.000      85.556      88.134\n",
              "x2            39.8516      0.761     52.337      0.000      38.351      41.352\n",
              "x3            34.7956      0.666     52.256      0.000      33.483      36.108\n",
              "x4            64.5525      0.677     95.326      0.000      63.218      65.887\n",
              "x5             0.3353      0.689      0.486      0.627      -1.023       1.694\n",
              "x6            -0.5787      0.697     -0.830      0.407      -1.952       0.795\n",
              "x7            -1.6412      0.675     -2.431      0.016      -2.972      -0.311\n",
              "==============================================================================\n",
              "Omnibus:                        2.727   Durbin-Watson:                   1.815\n",
              "Prob(Omnibus):                  0.256   Jarque-Bera (JB):                2.676\n",
              "Skew:                          -0.211   Prob(JB):                        0.262\n",
              "Kurtosis:                       2.683   Cond. No.                         1.30\n",
              "==============================================================================\n",
              "\n",
              "Notes:\n",
              "[1] Standard Errors assume that the covariance matrix of the errors is correctly specified.\n",
              "\"\"\""
            ],
            "text/html": [
              "<table class=\"simpletable\">\n",
              "<caption>OLS Regression Results</caption>\n",
              "<tr>\n",
              "  <th>Dep. Variable:</th>            <td>y</td>        <th>  R-squared:         </th> <td>   0.993</td> \n",
              "</tr>\n",
              "<tr>\n",
              "  <th>Model:</th>                   <td>OLS</td>       <th>  Adj. R-squared:    </th> <td>   0.993</td> \n",
              "</tr>\n",
              "<tr>\n",
              "  <th>Method:</th>             <td>Least Squares</td>  <th>  F-statistic:       </th> <td>   4608.</td> \n",
              "</tr>\n",
              "<tr>\n",
              "  <th>Date:</th>             <td>Tue, 25 Oct 2022</td> <th>  Prob (F-statistic):</th> <td>1.82e-236</td>\n",
              "</tr>\n",
              "<tr>\n",
              "  <th>Time:</th>                 <td>08:58:35</td>     <th>  Log-Likelihood:    </th> <td> -857.52</td> \n",
              "</tr>\n",
              "<tr>\n",
              "  <th>No. Observations:</th>      <td>   230</td>      <th>  AIC:               </th> <td>   1731.</td> \n",
              "</tr>\n",
              "<tr>\n",
              "  <th>Df Residuals:</th>          <td>   222</td>      <th>  BIC:               </th> <td>   1759.</td> \n",
              "</tr>\n",
              "<tr>\n",
              "  <th>Df Model:</th>              <td>     7</td>      <th>                     </th>     <td> </td>    \n",
              "</tr>\n",
              "<tr>\n",
              "  <th>Covariance Type:</th>      <td>nonrobust</td>    <th>                     </th>     <td> </td>    \n",
              "</tr>\n",
              "</table>\n",
              "<table class=\"simpletable\">\n",
              "<tr>\n",
              "      <td></td>         <th>coef</th>     <th>std err</th>      <th>t</th>      <th>P>|t|</th>  <th>[0.025</th>    <th>0.975]</th>  \n",
              "</tr>\n",
              "<tr>\n",
              "  <th>Intercept</th> <td>   -0.4262</td> <td>    0.680</td> <td>   -0.626</td> <td> 0.532</td> <td>   -1.767</td> <td>    0.915</td>\n",
              "</tr>\n",
              "<tr>\n",
              "  <th>x1</th>        <td>   86.8449</td> <td>    0.654</td> <td>  132.783</td> <td> 0.000</td> <td>   85.556</td> <td>   88.134</td>\n",
              "</tr>\n",
              "<tr>\n",
              "  <th>x2</th>        <td>   39.8516</td> <td>    0.761</td> <td>   52.337</td> <td> 0.000</td> <td>   38.351</td> <td>   41.352</td>\n",
              "</tr>\n",
              "<tr>\n",
              "  <th>x3</th>        <td>   34.7956</td> <td>    0.666</td> <td>   52.256</td> <td> 0.000</td> <td>   33.483</td> <td>   36.108</td>\n",
              "</tr>\n",
              "<tr>\n",
              "  <th>x4</th>        <td>   64.5525</td> <td>    0.677</td> <td>   95.326</td> <td> 0.000</td> <td>   63.218</td> <td>   65.887</td>\n",
              "</tr>\n",
              "<tr>\n",
              "  <th>x5</th>        <td>    0.3353</td> <td>    0.689</td> <td>    0.486</td> <td> 0.627</td> <td>   -1.023</td> <td>    1.694</td>\n",
              "</tr>\n",
              "<tr>\n",
              "  <th>x6</th>        <td>   -0.5787</td> <td>    0.697</td> <td>   -0.830</td> <td> 0.407</td> <td>   -1.952</td> <td>    0.795</td>\n",
              "</tr>\n",
              "<tr>\n",
              "  <th>x7</th>        <td>   -1.6412</td> <td>    0.675</td> <td>   -2.431</td> <td> 0.016</td> <td>   -2.972</td> <td>   -0.311</td>\n",
              "</tr>\n",
              "</table>\n",
              "<table class=\"simpletable\">\n",
              "<tr>\n",
              "  <th>Omnibus:</th>       <td> 2.727</td> <th>  Durbin-Watson:     </th> <td>   1.815</td>\n",
              "</tr>\n",
              "<tr>\n",
              "  <th>Prob(Omnibus):</th> <td> 0.256</td> <th>  Jarque-Bera (JB):  </th> <td>   2.676</td>\n",
              "</tr>\n",
              "<tr>\n",
              "  <th>Skew:</th>          <td>-0.211</td> <th>  Prob(JB):          </th> <td>   0.262</td>\n",
              "</tr>\n",
              "<tr>\n",
              "  <th>Kurtosis:</th>      <td> 2.683</td> <th>  Cond. No.          </th> <td>    1.30</td>\n",
              "</tr>\n",
              "</table><br/><br/>Notes:<br/>[1] Standard Errors assume that the covariance matrix of the errors is correctly specified."
            ]
          },
          "metadata": {},
          "execution_count": 23
        }
      ]
    },
    {
      "cell_type": "code",
      "source": [
        "new_model = linear_model.LinearRegression()\n",
        "new_model.fit(x_train,y_train)"
      ],
      "metadata": {
        "colab": {
          "base_uri": "https://localhost:8080/"
        },
        "id": "V9JEv_xjWyDF",
        "outputId": "8550586d-ff76-4f54-96d4-fc7cb452c380"
      },
      "execution_count": null,
      "outputs": [
        {
          "output_type": "execute_result",
          "data": {
            "text/plain": [
              "LinearRegression()"
            ]
          },
          "metadata": {},
          "execution_count": 24
        }
      ]
    },
    {
      "cell_type": "code",
      "source": [
        "import seaborn"
      ],
      "metadata": {
        "id": "06rOAVplSHue"
      },
      "execution_count": null,
      "outputs": []
    },
    {
      "cell_type": "code",
      "source": [
        "seaborn.regplot(x=y_test, y=new_model.predict(x_test), color=\"b\")"
      ],
      "metadata": {
        "colab": {
          "base_uri": "https://localhost:8080/",
          "height": 296
        },
        "id": "iUZ_Q12fSMrN",
        "outputId": "2014f8dd-1cfc-4e51-e872-910f84b2ee3f"
      },
      "execution_count": null,
      "outputs": [
        {
          "output_type": "execute_result",
          "data": {
            "text/plain": [
              "<matplotlib.axes._subplots.AxesSubplot at 0x7fa3a14f8090>"
            ]
          },
          "metadata": {},
          "execution_count": 27
        },
        {
          "output_type": "display_data",
          "data": {
            "text/plain": [
              "<Figure size 432x288 with 1 Axes>"
            ],
            "image/png": "[encoded data removed]"
          },
          "metadata": {
            "needs_background": "light"
          }
        }
      ]
    },
    {
      "cell_type": "markdown",
      "source": [
        "**Вывод**: как мы можем увидеть R-squared(коэффициент детерминации) равняется\t0.994, что показывает модель правдоподобна и имеет место быть"
      ],
      "metadata": {
        "id": "bPlLPaXJlE0D"
      }
    },
    {
      "cell_type": "markdown",
      "source": [
        "Дополнительные задания\n",
        "\n",
        "\n",
        "---\n",
        "\n"
      ],
      "metadata": {
        "id": "IUvB1vJcorOz"
      }
    },
    {
      "cell_type": "markdown",
      "source": [
        "1. Для целевой переменной и каждого из признаков постройте полиномиальную регрессию второго, третьего и десятого порядков. Сделайте вывод о значимости регрессии. PolymonFeatures()"
      ],
      "metadata": {
        "id": "qV7QIomrpGRs"
      }
    },
    {
      "cell_type": "code",
      "source": [
        "from sklearn.preprocessing import PolynomialFeatures\n",
        "from sklearn.metrics import mean_absolute_error\n",
        "from sklearn.metrics import mean_squared_error"
      ],
      "metadata": {
        "id": "BaEtEjEa0RTU"
      },
      "execution_count": null,
      "outputs": []
    },
    {
      "cell_type": "code",
      "source": [
        "# регрессия 2 порядка \n",
        "collect_data = []\n",
        "metrics=[]\n",
        "def polynom(column_name : str) -> None:\n",
        "    poly = PolynomialFeatures(degree=2, include_bias=False)\n",
        "    poly_features = poly.fit_transform(x_train[[column_name]])\n",
        "    poly_features_test = poly.fit_transform(x_test[[column_name]])\n",
        "    model = linear_model.LinearRegression()\n",
        "    model.fit(poly_features, y_train)\n",
        "    print(\"R^2 of model\", model.score(poly_features_test,y_test))\n",
        "    collect_data.append([model.score(poly_features_test,y_test), model.score(poly_features,y_train)])\n",
        "    metrics.append([mean_absolute_error(y_test, model.predict(poly_features_test)), mean_squared_error(y_train, model.predict(poly_features))])\n",
        "    return model.predict(poly_features_test)\n",
        "\n",
        "fig, ax = plt.subplots(4,2)\n",
        "plt.subplots_adjust(wspace=0.3, hspace=0.6)\n",
        "ax[0,0].set_title('1 модель')\n",
        "ax[0,1].set_title('2 модель')\n",
        "ax[1,0].set_title('3 модель')\n",
        "ax[1,1].set_title('4 модель')\n",
        "ax[2,0].set_title('5 модель')\n",
        "ax[2,1].set_title('6 модель')\n",
        "ax[3,0].set_title('7 модель')\n",
        "\n",
        "\n",
        "ax[0,0].plot(x_test[\"x1\"], polynom(\"x1\"), color='red')\n",
        "ax[0,0].scatter(x_train[\"x1\"], y_train)\n",
        "\n",
        "ax[0,1].plot(x_test[\"x2\"], polynom(\"x2\"), color='red')\n",
        "ax[0,1].scatter(x_train[\"x2\"], y_train)\n",
        "\n",
        "ax[1,0].plot(x_test[\"x3\"], polynom(\"x3\"), color='red')\n",
        "ax[1,0].scatter(x_train[\"x3\"], y_train)\n",
        "\n",
        "ax[1,1].plot(x_test[\"x4\"], polynom(\"x4\"), color='red')\n",
        "ax[1,1].scatter(x_train[\"x4\"], y_train)\n",
        "\n",
        "ax[2,0].plot(x_test[\"x5\"], polynom(\"x5\"), color='red')\n",
        "ax[2,0].scatter(x_train[\"x5\"], y_train)\n",
        "\n",
        "ax[2,1].plot(x_test[\"x6\"], polynom(\"x6\"), color='red')\n",
        "ax[2,1].scatter(x_train[\"x6\"], y_train)\n",
        "\n",
        "ax[3,0].plot(x_test[\"x7\"], polynom(\"x7\"), color='red')\n",
        "ax[3,0].scatter(x_train[\"x7\"], y_train)\n",
        "metrics"
      ],
      "metadata": {
        "colab": {
          "base_uri": "https://localhost:8080/",
          "height": 524
        },
        "id": "nV311oni4-hR",
        "outputId": "f30e247b-c889-45d4-cb28-8ce197e0d824"
      },
      "execution_count": null,
      "outputs": [
        {
          "output_type": "stream",
          "name": "stdout",
          "text": [
            "R^2 of model 0.4439048458575965\n",
            "R^2 of model 0.07885475414957\n",
            "R^2 of model 0.10515304997519537\n",
            "R^2 of model 0.31984135513463574\n",
            "R^2 of model -0.033617062915197504\n",
            "R^2 of model -0.0037937376225807284\n",
            "R^2 of model 0.01267720435798525\n"
          ]
        },
        {
          "output_type": "execute_result",
          "data": {
            "text/plain": [
              "[[76.74466773216353, 7283.080578876195],\n",
              " [97.85399538576364, 13290.39691458687],\n",
              " [93.70902338463279, 13451.165700032183],\n",
              " [84.00546666608697, 10514.294349329039],\n",
              " [102.6604963802658, 14361.629828160489],\n",
              " [99.32000095138274, 14765.761950634636],\n",
              " [99.68211872285777, 14796.692782708978]]"
            ]
          },
          "metadata": {},
          "execution_count": 48
        },
        {
          "output_type": "display_data",
          "data": {
            "text/plain": [
              "<Figure size 432x288 with 8 Axes>"
            ],
            "image/png": "[encoded data removed]"
          },
          "metadata": {
            "needs_background": "light"
          }
        }
      ]
    },
    {
      "cell_type": "code",
      "source": [
        "def polynom3(column_name : str) -> None:\n",
        "    poly = PolynomialFeatures(degree=3, include_bias=False)\n",
        "    poly_features = poly.fit_transform(x_train[[column_name]])\n",
        "    poly_features_test = poly.fit_transform(x_test[[column_name]])\n",
        "    model = linear_model.LinearRegression()\n",
        "    model.fit(poly_features, y_train)\n",
        "    print(\"R^2 of model\", model.score(poly_features_test,y_test))\n",
        "    collect_data.append([model.score(poly_features_test,y_test), model.score(poly_features,y_train)])\n",
        "    metrics.append([mean_absolute_error(y_test, model.predict(poly_features_test)), mean_squared_error(y_train, model.predict(poly_features))])\n",
        "    return model.predict(poly_features_test)\n",
        "\n",
        "fig, ax = plt.subplots(4,2)\n",
        "plt.subplots_adjust(wspace=0.3, hspace=0.6)\n",
        "ax[0,0].set_title('1 модель')\n",
        "ax[0,1].set_title('2 модель')\n",
        "ax[1,0].set_title('3 модель')\n",
        "ax[1,1].set_title('4 модель')\n",
        "ax[2,0].set_title('5 модель')\n",
        "ax[2,1].set_title('6 модель')\n",
        "ax[3,0].set_title('7 модель')\n",
        "\n",
        "\n",
        "ax[0,0].plot(x_test[\"x1\"], polynom(\"x1\"), color='red')\n",
        "ax[0,0].scatter(x_train[\"x1\"], y_train)\n",
        "\n",
        "ax[0,1].plot(x_test[\"x2\"], polynom(\"x2\"), color='red')\n",
        "ax[0,1].scatter(x_train[\"x2\"], y_train)\n",
        "\n",
        "ax[1,0].plot(x_test[\"x3\"], polynom(\"x3\"), color='red')\n",
        "ax[1,0].scatter(x_train[\"x3\"], y_train)\n",
        "\n",
        "ax[1,1].plot(x_test[\"x4\"], polynom(\"x4\"), color='red')\n",
        "ax[1,1].scatter(x_train[\"x4\"], y_train)\n",
        "\n",
        "ax[2,0].plot(x_test[\"x5\"], polynom(\"x5\"), color='red')\n",
        "ax[2,0].scatter(x_train[\"x5\"], y_train)\n",
        "\n",
        "ax[2,1].plot(x_test[\"x6\"], polynom(\"x6\"), color='red')\n",
        "ax[2,1].scatter(x_train[\"x6\"], y_train)\n",
        "\n",
        "ax[3,0].plot(x_test[\"x7\"], polynom(\"x7\"), color='red')\n",
        "ax[3,0].scatter(x_train[\"x7\"], y_train)\n",
        "metrics"
      ],
      "metadata": {
        "colab": {
          "base_uri": "https://localhost:8080/",
          "height": 645
        },
        "id": "VGDok54bawvS",
        "outputId": "4bf14828-7e74-4138-b567-c2d8419af524"
      },
      "execution_count": null,
      "outputs": [
        {
          "output_type": "stream",
          "name": "stdout",
          "text": [
            "R^2 of model 0.4439048458575965\n",
            "R^2 of model 0.07885475414957\n",
            "R^2 of model 0.10515304997519537\n",
            "R^2 of model 0.31984135513463574\n",
            "R^2 of model -0.033617062915197504\n",
            "R^2 of model -0.0037937376225807284\n",
            "R^2 of model 0.01267720435798525\n"
          ]
        },
        {
          "output_type": "execute_result",
          "data": {
            "text/plain": [
              "[[76.74466773216353, 7283.080578876195],\n",
              " [97.85399538576364, 13290.39691458687],\n",
              " [93.70902338463279, 13451.165700032183],\n",
              " [84.00546666608697, 10514.294349329039],\n",
              " [102.6604963802658, 14361.629828160489],\n",
              " [99.32000095138274, 14765.761950634636],\n",
              " [99.68211872285777, 14796.692782708978],\n",
              " [76.74466773216353, 7283.080578876195],\n",
              " [97.85399538576364, 13290.39691458687],\n",
              " [93.70902338463279, 13451.165700032183],\n",
              " [84.00546666608697, 10514.294349329039],\n",
              " [102.6604963802658, 14361.629828160489],\n",
              " [99.32000095138274, 14765.761950634636],\n",
              " [99.68211872285777, 14796.692782708978]]"
            ]
          },
          "metadata": {},
          "execution_count": 49
        },
        {
          "output_type": "display_data",
          "data": {
            "text/plain": [
              "<Figure size 432x288 with 8 Axes>"
            ],
            "image/png": "[encoded data removed]"
          },
          "metadata": {
            "needs_background": "light"
          }
        }
      ]
    },
    {
      "cell_type": "code",
      "source": [
        "def polynom10(column_name : str) -> None:\n",
        "    poly = PolynomialFeatures(degree=10, include_bias=False)\n",
        "    poly_features = poly.fit_transform(x_train[[column_name]])\n",
        "    poly_features_test = poly.fit_transform(x_test[[column_name]])\n",
        "    model = linear_model.LinearRegression()\n",
        "    model.fit(poly_features, y_train)\n",
        "    print(\"R^2 of model\", model.score(poly_features_test,y_test))\n",
        "    collect_data.append([model.score(poly_features_test,y_test), model.score(poly_features,y_train)])\n",
        "    metrics.append([mean_absolute_error(y_test, model.predict(poly_features_test)), mean_squared_error(y_train, model.predict(poly_features))])\n",
        "    return model.predict(poly_features_test)\n",
        "\n",
        "fig, ax = plt.subplots(4,2)\n",
        "plt.subplots_adjust(wspace=0.3, hspace=0.6)\n",
        "ax[0,0].set_title('1 модель')\n",
        "ax[0,1].set_title('2 модель')\n",
        "ax[1,0].set_title('3 модель')\n",
        "ax[1,1].set_title('4 модель')\n",
        "ax[2,0].set_title('5 модель')\n",
        "ax[2,1].set_title('6 модель')\n",
        "ax[3,0].set_title('7 модель')\n",
        "\n",
        "\n",
        "ax[0,0].plot(x_test[\"x1\"], polynom(\"x1\"), color='red')\n",
        "ax[0,0].scatter(x_train[\"x1\"], y_train)\n",
        "\n",
        "ax[0,1].plot(x_test[\"x2\"], polynom(\"x2\"), color='red')\n",
        "ax[0,1].scatter(x_train[\"x2\"], y_train)\n",
        "\n",
        "ax[1,0].plot(x_test[\"x3\"], polynom(\"x3\"), color='red')\n",
        "ax[1,0].scatter(x_train[\"x3\"], y_train)\n",
        "\n",
        "ax[1,1].plot(x_test[\"x4\"], polynom(\"x4\"), color='red')\n",
        "ax[1,1].scatter(x_train[\"x4\"], y_train)\n",
        "\n",
        "ax[2,0].plot(x_test[\"x5\"], polynom(\"x5\"), color='red')\n",
        "ax[2,0].scatter(x_train[\"x5\"], y_train)\n",
        "\n",
        "ax[2,1].plot(x_test[\"x6\"], polynom(\"x6\"), color='red')\n",
        "ax[2,1].scatter(x_train[\"x6\"], y_train)\n",
        "\n",
        "ax[3,0].plot(x_test[\"x7\"], polynom(\"x7\"), color='red')\n",
        "ax[3,0].scatter(x_train[\"x7\"], y_train)\n",
        "metrics"
      ],
      "metadata": {
        "colab": {
          "base_uri": "https://localhost:8080/",
          "height": 767
        },
        "id": "eA5D6T9pdcQw",
        "outputId": "a01e6018-dbad-4a0b-a585-3e585b65072f"
      },
      "execution_count": null,
      "outputs": [
        {
          "output_type": "stream",
          "name": "stdout",
          "text": [
            "R^2 of model 0.4439048458575965\n",
            "R^2 of model 0.07885475414957\n",
            "R^2 of model 0.10515304997519537\n",
            "R^2 of model 0.31984135513463574\n",
            "R^2 of model -0.033617062915197504\n",
            "R^2 of model -0.0037937376225807284\n",
            "R^2 of model 0.01267720435798525\n"
          ]
        },
        {
          "output_type": "execute_result",
          "data": {
            "text/plain": [
              "[[76.74466773216353, 7283.080578876195],\n",
              " [97.85399538576364, 13290.39691458687],\n",
              " [93.70902338463279, 13451.165700032183],\n",
              " [84.00546666608697, 10514.294349329039],\n",
              " [102.6604963802658, 14361.629828160489],\n",
              " [99.32000095138274, 14765.761950634636],\n",
              " [99.68211872285777, 14796.692782708978],\n",
              " [76.74466773216353, 7283.080578876195],\n",
              " [97.85399538576364, 13290.39691458687],\n",
              " [93.70902338463279, 13451.165700032183],\n",
              " [84.00546666608697, 10514.294349329039],\n",
              " [102.6604963802658, 14361.629828160489],\n",
              " [99.32000095138274, 14765.761950634636],\n",
              " [99.68211872285777, 14796.692782708978],\n",
              " [76.74466773216353, 7283.080578876195],\n",
              " [97.85399538576364, 13290.39691458687],\n",
              " [93.70902338463279, 13451.165700032183],\n",
              " [84.00546666608697, 10514.294349329039],\n",
              " [102.6604963802658, 14361.629828160489],\n",
              " [99.32000095138274, 14765.761950634636],\n",
              " [99.68211872285777, 14796.692782708978]]"
            ]
          },
          "metadata": {},
          "execution_count": 50
        },
        {
          "output_type": "display_data",
          "data": {
            "text/plain": [
              "<Figure size 432x288 with 8 Axes>"
            ],
            "image/png": "[encoded data removed]"
          },
          "metadata": {
            "needs_background": "light"
          }
        }
      ]
    },
    {
      "cell_type": "markdown",
      "source": [
        "2. Постройте сводную таблицу показателей точности всех построенных моделей по тестовой и обучающей выборке. Сделайте вывод, какие модели переобученнные, какие - недообученные."
      ],
      "metadata": {
        "id": "j8XlltkqpHlc"
      }
    },
    {
      "cell_type": "code",
      "source": [
        "names = ['1_polynom2', '2_polynom2', '3_polynom2', '4_polynom2', '5_polynom2', '6_polynom2','7_polynom2', '1_polynom3', '2_polynom3', '3_polynom3', '4_polynom3', '5_polynom3', '6_polynom3','7_polynom3', '1_polynom10', '2_polynom10', '3_polynom10', '4_polynom10', '5_polynom10', '6_polynom10', '7_polynom10',]"
      ],
      "metadata": {
        "id": "t0Uh_o5WpHzU"
      },
      "execution_count": null,
      "outputs": []
    },
    {
      "cell_type": "code",
      "source": [
        "my_table1 = dict(zip(names, collect_data))\n",
        "my_table2 = dict(zip(names, metrics))"
      ],
      "metadata": {
        "id": "DtAb9ctRfab_"
      },
      "execution_count": null,
      "outputs": []
    },
    {
      "cell_type": "code",
      "source": [
        "et_df = pd.DataFrame(my_table1, index = ['score_test','score_train'])\n",
        "mt_df = pd.DataFrame(my_table2, index=['MAE', 'MSE'])"
      ],
      "metadata": {
        "id": "xtufsn7Ufdue"
      },
      "execution_count": null,
      "outputs": []
    },
    {
      "cell_type": "code",
      "source": [
        "et_df"
      ],
      "metadata": {
        "colab": {
          "base_uri": "https://localhost:8080/",
          "height": 205
        },
        "id": "wqDctBcgffuX",
        "outputId": "dbc9229a-f2d7-428a-867b-1bc4ff9fd6d6"
      },
      "execution_count": null,
      "outputs": [
        {
          "output_type": "execute_result",
          "data": {
            "text/plain": [
              "             1_polynom2  2_polynom2  3_polynom2  4_polynom2  5_polynom2  \\\n",
              "score_test     0.443905    0.078855    0.105153    0.319841   -0.033617   \n",
              "score_train    0.508944    0.103905    0.093065    0.291081    0.031678   \n",
              "\n",
              "             6_polynom2  7_polynom2  1_polynom3  2_polynom3  3_polynom3  ...  \\\n",
              "score_test    -0.003794    0.012677    0.443905    0.078855    0.105153  ...   \n",
              "score_train    0.004429    0.002344    0.508944    0.103905    0.093065  ...   \n",
              "\n",
              "             5_polynom3  6_polynom3  7_polynom3  1_polynom10  2_polynom10  \\\n",
              "score_test    -0.033617   -0.003794    0.012677     0.443905     0.078855   \n",
              "score_train    0.031678    0.004429    0.002344     0.508944     0.103905   \n",
              "\n",
              "             3_polynom10  4_polynom10  5_polynom10  6_polynom10  7_polynom10  \n",
              "score_test      0.105153     0.319841    -0.033617    -0.003794     0.012677  \n",
              "score_train     0.093065     0.291081     0.031678     0.004429     0.002344  \n",
              "\n",
              "[2 rows x 21 columns]"
            ],
            "text/html": [
              "\n",
              "  <div id=\"df-e43eb07a-4140-4f58-9b08-fe549d4c8efd\">\n",
              "    <div class=\"colab-df-container\">\n",
              "      <div>\n",
              "<style scoped>\n",
              "    .dataframe tbody tr th:only-of-type {\n",
              "        vertical-align: middle;\n",
              "    }\n",
              "\n",
              "    .dataframe tbody tr th {\n",
              "        vertical-align: top;\n",
              "    }\n",
              "\n",
              "    .dataframe thead th {\n",
              "        text-align: right;\n",
              "    }\n",
              "</style>\n",
              "<table border=\"1\" class=\"dataframe\">\n",
              "  <thead>\n",
              "    <tr style=\"text-align: right;\">\n",
              "      <th></th>\n",
              "      <th>1_polynom2</th>\n",
              "      <th>2_polynom2</th>\n",
              "      <th>3_polynom2</th>\n",
              "      <th>4_polynom2</th>\n",
              "      <th>5_polynom2</th>\n",
              "      <th>6_polynom2</th>\n",
              "      <th>7_polynom2</th>\n",
              "      <th>1_polynom3</th>\n",
              "      <th>2_polynom3</th>\n",
              "      <th>3_polynom3</th>\n",
              "      <th>...</th>\n",
              "      <th>5_polynom3</th>\n",
              "      <th>6_polynom3</th>\n",
              "      <th>7_polynom3</th>\n",
              "      <th>1_polynom10</th>\n",
              "      <th>2_polynom10</th>\n",
              "      <th>3_polynom10</th>\n",
              "      <th>4_polynom10</th>\n",
              "      <th>5_polynom10</th>\n",
              "      <th>6_polynom10</th>\n",
              "      <th>7_polynom10</th>\n",
              "    </tr>\n",
              "  </thead>\n",
              "  <tbody>\n",
              "    <tr>\n",
              "      <th>score_test</th>\n",
              "      <td>0.443905</td>\n",
              "      <td>0.078855</td>\n",
              "      <td>0.105153</td>\n",
              "      <td>0.319841</td>\n",
              "      <td>-0.033617</td>\n",
              "      <td>-0.003794</td>\n",
              "      <td>0.012677</td>\n",
              "      <td>0.443905</td>\n",
              "      <td>0.078855</td>\n",
              "      <td>0.105153</td>\n",
              "      <td>...</td>\n",
              "      <td>-0.033617</td>\n",
              "      <td>-0.003794</td>\n",
              "      <td>0.012677</td>\n",
              "      <td>0.443905</td>\n",
              "      <td>0.078855</td>\n",
              "      <td>0.105153</td>\n",
              "      <td>0.319841</td>\n",
              "      <td>-0.033617</td>\n",
              "      <td>-0.003794</td>\n",
              "      <td>0.012677</td>\n",
              "    </tr>\n",
              "    <tr>\n",
              "      <th>score_train</th>\n",
              "      <td>0.508944</td>\n",
              "      <td>0.103905</td>\n",
              "      <td>0.093065</td>\n",
              "      <td>0.291081</td>\n",
              "      <td>0.031678</td>\n",
              "      <td>0.004429</td>\n",
              "      <td>0.002344</td>\n",
              "      <td>0.508944</td>\n",
              "      <td>0.103905</td>\n",
              "      <td>0.093065</td>\n",
              "      <td>...</td>\n",
              "      <td>0.031678</td>\n",
              "      <td>0.004429</td>\n",
              "      <td>0.002344</td>\n",
              "      <td>0.508944</td>\n",
              "      <td>0.103905</td>\n",
              "      <td>0.093065</td>\n",
              "      <td>0.291081</td>\n",
              "      <td>0.031678</td>\n",
              "      <td>0.004429</td>\n",
              "      <td>0.002344</td>\n",
              "    </tr>\n",
              "  </tbody>\n",
              "</table>\n",
              "<p>2 rows × 21 columns</p>\n",
              "</div>\n",
              "      <button class=\"colab-df-convert\" onclick=\"convertToInteractive('df-e43eb07a-4140-4f58-9b08-fe549d4c8efd')\"\n",
              "              title=\"Convert this dataframe to an interactive table.\"\n",
              "              style=\"display:none;\">\n",
              "        \n",
              "  <svg xmlns=\"http://www.w3.org/2000/svg\" height=\"24px\"viewBox=\"0 0 24 24\"\n",
              "       width=\"24px\">\n",
              "    <path d=\"M0 0h24v24H0V0z\" fill=\"none\"/>\n",
              "    <path d=\"M18.56 5.44l.94 2.06.94-2.06 2.06-.94-2.06-.94-.94-2.06-.94 2.06-2.06.94zm-11 1L8.5 8.5l.94-2.06 2.06-.94-2.06-.94L8.5 2.5l-.94 2.06-2.06.94zm10 10l.94 2.06.94-2.06 2.06-.94-2.06-.94-.94-2.06-.94 2.06-2.06.94z\"/><path d=\"M17.41 7.96l-1.37-1.37c-.4-.4-.92-.59-1.43-.59-.52 0-1.04.2-1.43.59L10.3 9.45l-7.72 7.72c-.78.78-.78 2.05 0 2.83L4 21.41c.39.39.9.59 1.41.59.51 0 1.02-.2 1.41-.59l7.78-7.78 2.81-2.81c.8-.78.8-2.07 0-2.86zM5.41 20L4 18.59l7.72-7.72 1.47 1.35L5.41 20z\"/>\n",
              "  </svg>\n",
              "      </button>\n",
              "      \n",
              "  <style>\n",
              "    .colab-df-container {\n",
              "      display:flex;\n",
              "      flex-wrap:wrap;\n",
              "      gap: 12px;\n",
              "    }\n",
              "\n",
              "    .colab-df-convert {\n",
              "      background-color: #E8F0FE;\n",
              "      border: none;\n",
              "      border-radius: 50%;\n",
              "      cursor: pointer;\n",
              "      display: none;\n",
              "      fill: #1967D2;\n",
              "      height: 32px;\n",
              "      padding: 0 0 0 0;\n",
              "      width: 32px;\n",
              "    }\n",
              "\n",
              "    .colab-df-convert:hover {\n",
              "      background-color: #E2EBFA;\n",
              "      box-shadow: 0px 1px 2px rgba(60, 64, 67, 0.3), 0px 1px 3px 1px rgba(60, 64, 67, 0.15);\n",
              "      fill: #174EA6;\n",
              "    }\n",
              "\n",
              "    [theme=dark] .colab-df-convert {\n",
              "      background-color: #3B4455;\n",
              "      fill: #D2E3FC;\n",
              "    }\n",
              "\n",
              "    [theme=dark] .colab-df-convert:hover {\n",
              "      background-color: #434B5C;\n",
              "      box-shadow: 0px 1px 3px 1px rgba(0, 0, 0, 0.15);\n",
              "      filter: drop-shadow(0px 1px 2px rgba(0, 0, 0, 0.3));\n",
              "      fill: #FFFFFF;\n",
              "    }\n",
              "  </style>\n",
              "\n",
              "      <script>\n",
              "        const buttonEl =\n",
              "          document.querySelector('#df-e43eb07a-4140-4f58-9b08-fe549d4c8efd button.colab-df-convert');\n",
              "        buttonEl.style.display =\n",
              "          google.colab.kernel.accessAllowed ? 'block' : 'none';\n",
              "\n",
              "        async function convertToInteractive(key) {\n",
              "          const element = document.querySelector('#df-e43eb07a-4140-4f58-9b08-fe549d4c8efd');\n",
              "          const dataTable =\n",
              "            await google.colab.kernel.invokeFunction('convertToInteractive',\n",
              "                                                     [key], {});\n",
              "          if (!dataTable) return;\n",
              "\n",
              "          const docLinkHtml = 'Like what you see? Visit the ' +\n",
              "            '<a target=\"_blank\" href=https://colab.research.google.com/notebooks/data_table.ipynb>data table notebook</a>'\n",
              "            + ' to learn more about interactive tables.';\n",
              "          element.innerHTML = '';\n",
              "          dataTable['output_type'] = 'display_data';\n",
              "          await google.colab.output.renderOutput(dataTable, element);\n",
              "          const docLink = document.createElement('div');\n",
              "          docLink.innerHTML = docLinkHtml;\n",
              "          element.appendChild(docLink);\n",
              "        }\n",
              "      </script>\n",
              "    </div>\n",
              "  </div>\n",
              "  "
            ]
          },
          "metadata": {},
          "execution_count": 63
        }
      ]
    },
    {
      "cell_type": "code",
      "source": [
        "mt_df"
      ],
      "metadata": {
        "colab": {
          "base_uri": "https://localhost:8080/",
          "height": 205
        },
        "id": "kIHF1n7khCtk",
        "outputId": "422b39d2-c3d1-4ce8-cede-a9ae4bdab745"
      },
      "execution_count": null,
      "outputs": [
        {
          "output_type": "execute_result",
          "data": {
            "text/plain": [
              "      1_polynom2    2_polynom2    3_polynom2    4_polynom2    5_polynom2  \\\n",
              "MAE    76.744668     97.853995     93.709023     84.005467    102.660496   \n",
              "MSE  7283.080579  13290.396915  13451.165700  10514.294349  14361.629828   \n",
              "\n",
              "       6_polynom2    7_polynom2   1_polynom3    2_polynom3    3_polynom3  ...  \\\n",
              "MAE     99.320001     99.682119    76.744668     97.853995     93.709023  ...   \n",
              "MSE  14765.761951  14796.692783  7283.080579  13290.396915  13451.165700  ...   \n",
              "\n",
              "       5_polynom3    6_polynom3    7_polynom3  1_polynom10   2_polynom10  \\\n",
              "MAE    102.660496     99.320001     99.682119    76.744668     97.853995   \n",
              "MSE  14361.629828  14765.761951  14796.692783  7283.080579  13290.396915   \n",
              "\n",
              "      3_polynom10   4_polynom10   5_polynom10   6_polynom10   7_polynom10  \n",
              "MAE     93.709023     84.005467    102.660496     99.320001     99.682119  \n",
              "MSE  13451.165700  10514.294349  14361.629828  14765.761951  14796.692783  \n",
              "\n",
              "[2 rows x 21 columns]"
            ],
            "text/html": [
              "\n",
              "  <div id=\"df-29ab0b0a-9254-417e-a074-0772103a9a4c\">\n",
              "    <div class=\"colab-df-container\">\n",
              "      <div>\n",
              "<style scoped>\n",
              "    .dataframe tbody tr th:only-of-type {\n",
              "        vertical-align: middle;\n",
              "    }\n",
              "\n",
              "    .dataframe tbody tr th {\n",
              "        vertical-align: top;\n",
              "    }\n",
              "\n",
              "    .dataframe thead th {\n",
              "        text-align: right;\n",
              "    }\n",
              "</style>\n",
              "<table border=\"1\" class=\"dataframe\">\n",
              "  <thead>\n",
              "    <tr style=\"text-align: right;\">\n",
              "      <th></th>\n",
              "      <th>1_polynom2</th>\n",
              "      <th>2_polynom2</th>\n",
              "      <th>3_polynom2</th>\n",
              "      <th>4_polynom2</th>\n",
              "      <th>5_polynom2</th>\n",
              "      <th>6_polynom2</th>\n",
              "      <th>7_polynom2</th>\n",
              "      <th>1_polynom3</th>\n",
              "      <th>2_polynom3</th>\n",
              "      <th>3_polynom3</th>\n",
              "      <th>...</th>\n",
              "      <th>5_polynom3</th>\n",
              "      <th>6_polynom3</th>\n",
              "      <th>7_polynom3</th>\n",
              "      <th>1_polynom10</th>\n",
              "      <th>2_polynom10</th>\n",
              "      <th>3_polynom10</th>\n",
              "      <th>4_polynom10</th>\n",
              "      <th>5_polynom10</th>\n",
              "      <th>6_polynom10</th>\n",
              "      <th>7_polynom10</th>\n",
              "    </tr>\n",
              "  </thead>\n",
              "  <tbody>\n",
              "    <tr>\n",
              "      <th>MAE</th>\n",
              "      <td>76.744668</td>\n",
              "      <td>97.853995</td>\n",
              "      <td>93.709023</td>\n",
              "      <td>84.005467</td>\n",
              "      <td>102.660496</td>\n",
              "      <td>99.320001</td>\n",
              "      <td>99.682119</td>\n",
              "      <td>76.744668</td>\n",
              "      <td>97.853995</td>\n",
              "      <td>93.709023</td>\n",
              "      <td>...</td>\n",
              "      <td>102.660496</td>\n",
              "      <td>99.320001</td>\n",
              "      <td>99.682119</td>\n",
              "      <td>76.744668</td>\n",
              "      <td>97.853995</td>\n",
              "      <td>93.709023</td>\n",
              "      <td>84.005467</td>\n",
              "      <td>102.660496</td>\n",
              "      <td>99.320001</td>\n",
              "      <td>99.682119</td>\n",
              "    </tr>\n",
              "    <tr>\n",
              "      <th>MSE</th>\n",
              "      <td>7283.080579</td>\n",
              "      <td>13290.396915</td>\n",
              "      <td>13451.165700</td>\n",
              "      <td>10514.294349</td>\n",
              "      <td>14361.629828</td>\n",
              "      <td>14765.761951</td>\n",
              "      <td>14796.692783</td>\n",
              "      <td>7283.080579</td>\n",
              "      <td>13290.396915</td>\n",
              "      <td>13451.165700</td>\n",
              "      <td>...</td>\n",
              "      <td>14361.629828</td>\n",
              "      <td>14765.761951</td>\n",
              "      <td>14796.692783</td>\n",
              "      <td>7283.080579</td>\n",
              "      <td>13290.396915</td>\n",
              "      <td>13451.165700</td>\n",
              "      <td>10514.294349</td>\n",
              "      <td>14361.629828</td>\n",
              "      <td>14765.761951</td>\n",
              "      <td>14796.692783</td>\n",
              "    </tr>\n",
              "  </tbody>\n",
              "</table>\n",
              "<p>2 rows × 21 columns</p>\n",
              "</div>\n",
              "      <button class=\"colab-df-convert\" onclick=\"convertToInteractive('df-29ab0b0a-9254-417e-a074-0772103a9a4c')\"\n",
              "              title=\"Convert this dataframe to an interactive table.\"\n",
              "              style=\"display:none;\">\n",
              "        \n",
              "  <svg xmlns=\"http://www.w3.org/2000/svg\" height=\"24px\"viewBox=\"0 0 24 24\"\n",
              "       width=\"24px\">\n",
              "    <path d=\"M0 0h24v24H0V0z\" fill=\"none\"/>\n",
              "    <path d=\"M18.56 5.44l.94 2.06.94-2.06 2.06-.94-2.06-.94-.94-2.06-.94 2.06-2.06.94zm-11 1L8.5 8.5l.94-2.06 2.06-.94-2.06-.94L8.5 2.5l-.94 2.06-2.06.94zm10 10l.94 2.06.94-2.06 2.06-.94-2.06-.94-.94-2.06-.94 2.06-2.06.94z\"/><path d=\"M17.41 7.96l-1.37-1.37c-.4-.4-.92-.59-1.43-.59-.52 0-1.04.2-1.43.59L10.3 9.45l-7.72 7.72c-.78.78-.78 2.05 0 2.83L4 21.41c.39.39.9.59 1.41.59.51 0 1.02-.2 1.41-.59l7.78-7.78 2.81-2.81c.8-.78.8-2.07 0-2.86zM5.41 20L4 18.59l7.72-7.72 1.47 1.35L5.41 20z\"/>\n",
              "  </svg>\n",
              "      </button>\n",
              "      \n",
              "  <style>\n",
              "    .colab-df-container {\n",
              "      display:flex;\n",
              "      flex-wrap:wrap;\n",
              "      gap: 12px;\n",
              "    }\n",
              "\n",
              "    .colab-df-convert {\n",
              "      background-color: #E8F0FE;\n",
              "      border: none;\n",
              "      border-radius: 50%;\n",
              "      cursor: pointer;\n",
              "      display: none;\n",
              "      fill: #1967D2;\n",
              "      height: 32px;\n",
              "      padding: 0 0 0 0;\n",
              "      width: 32px;\n",
              "    }\n",
              "\n",
              "    .colab-df-convert:hover {\n",
              "      background-color: #E2EBFA;\n",
              "      box-shadow: 0px 1px 2px rgba(60, 64, 67, 0.3), 0px 1px 3px 1px rgba(60, 64, 67, 0.15);\n",
              "      fill: #174EA6;\n",
              "    }\n",
              "\n",
              "    [theme=dark] .colab-df-convert {\n",
              "      background-color: #3B4455;\n",
              "      fill: #D2E3FC;\n",
              "    }\n",
              "\n",
              "    [theme=dark] .colab-df-convert:hover {\n",
              "      background-color: #434B5C;\n",
              "      box-shadow: 0px 1px 3px 1px rgba(0, 0, 0, 0.15);\n",
              "      filter: drop-shadow(0px 1px 2px rgba(0, 0, 0, 0.3));\n",
              "      fill: #FFFFFF;\n",
              "    }\n",
              "  </style>\n",
              "\n",
              "      <script>\n",
              "        const buttonEl =\n",
              "          document.querySelector('#df-29ab0b0a-9254-417e-a074-0772103a9a4c button.colab-df-convert');\n",
              "        buttonEl.style.display =\n",
              "          google.colab.kernel.accessAllowed ? 'block' : 'none';\n",
              "\n",
              "        async function convertToInteractive(key) {\n",
              "          const element = document.querySelector('#df-29ab0b0a-9254-417e-a074-0772103a9a4c');\n",
              "          const dataTable =\n",
              "            await google.colab.kernel.invokeFunction('convertToInteractive',\n",
              "                                                     [key], {});\n",
              "          if (!dataTable) return;\n",
              "\n",
              "          const docLinkHtml = 'Like what you see? Visit the ' +\n",
              "            '<a target=\"_blank\" href=https://colab.research.google.com/notebooks/data_table.ipynb>data table notebook</a>'\n",
              "            + ' to learn more about interactive tables.';\n",
              "          element.innerHTML = '';\n",
              "          dataTable['output_type'] = 'display_data';\n",
              "          await google.colab.output.renderOutput(dataTable, element);\n",
              "          const docLink = document.createElement('div');\n",
              "          docLink.innerHTML = docLinkHtml;\n",
              "          element.appendChild(docLink);\n",
              "        }\n",
              "      </script>\n",
              "    </div>\n",
              "  </div>\n",
              "  "
            ]
          },
          "metadata": {},
          "execution_count": 64
        }
      ]
    },
    {
      "cell_type": "code",
      "source": [
        "writer = pd.ExcelWriter('output.xlsx')\n",
        "mt_df.to_excel(writer, 'marks')\n",
        "writer.save()"
      ],
      "metadata": {
        "id": "gxc5LwyRfhsg"
      },
      "execution_count": null,
      "outputs": []
    },
    {
      "cell_type": "markdown",
      "source": [
        "###Вывод\n",
        "---\n",
        "Модель под номером 1 - **недоообучена** (Выдает около 76,7446677321635\tпо MAE)\n",
        "\n",
        "Модель под номером 5 - **переобучена** (Выдает около 102.660496\tпо MAE)\n"
      ],
      "metadata": {
        "id": "f6lrf07ZfslI"
      }
    }
  ]
}